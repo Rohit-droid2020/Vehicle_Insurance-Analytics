{
 "cells": [
  {
   "cell_type": "code",
   "execution_count": 62,
   "metadata": {},
   "outputs": [],
   "source": [
    "import numpy as np\n",
    "import pandas as pd\n",
    "import matplotlib.pyplot as plt\n",
    "import seaborn as sns\n",
    "\n",
    "def annot_plot(ax,w,h):                                    # function to add data to plot\n",
    "    ax.spines['top'].set_visible(False)\n",
    "    ax.spines['right'].set_visible(False)\n",
    "    for p in ax.patches:\n",
    "         ax.annotate(f\"{p.get_height() * 100 / data.shape[0]:.2f}%\", (p.get_x() + p.get_width() / 2., p.get_height()),\n",
    "         ha='center', va='center', fontsize=11, color='black', rotation=0, xytext=(0, 10),\n",
    "         textcoords='offset points')             \n",
    "def annot_plot_num(ax,w,h):                                    # function to add data to plot\n",
    "    ax.spines['top'].set_visible(False)\n",
    "    ax.spines['right'].set_visible(False)\n",
    "    for p in ax.patches:\n",
    "        ax.annotate('{0:.1f}'.format(p.get_height()), (p.get_x()+w, p.get_height()+h))"
   ]
  },
  {
   "cell_type": "code",
   "execution_count": 15,
   "metadata": {},
   "outputs": [],
   "source": [
    "%matplotlib inline\n",
    "sns.set()\n",
    "from subprocess import check_output"
   ]
  },
  {
   "cell_type": "code",
   "execution_count": 16,
   "metadata": {},
   "outputs": [],
   "source": [
    "import warnings                                            # Ignore warning related to pandas_profiling\n",
    "warnings.filterwarnings('ignore')"
   ]
  },
  {
   "cell_type": "code",
   "execution_count": 170,
   "metadata": {},
   "outputs": [
    {
     "data": {
      "text/html": [
       "<div>\n",
       "<style scoped>\n",
       "    .dataframe tbody tr th:only-of-type {\n",
       "        vertical-align: middle;\n",
       "    }\n",
       "\n",
       "    .dataframe tbody tr th {\n",
       "        vertical-align: top;\n",
       "    }\n",
       "\n",
       "    .dataframe thead th {\n",
       "        text-align: right;\n",
       "    }\n",
       "</style>\n",
       "<table border=\"1\" class=\"dataframe\">\n",
       "  <thead>\n",
       "    <tr style=\"text-align: right;\">\n",
       "      <th></th>\n",
       "      <th>Unnamed: 0</th>\n",
       "      <th>clv</th>\n",
       "      <th>Response</th>\n",
       "      <th>Coverage</th>\n",
       "      <th>Education</th>\n",
       "      <th>EmploymentStatus</th>\n",
       "      <th>Gender</th>\n",
       "      <th>Income</th>\n",
       "      <th>Location.Code</th>\n",
       "      <th>Marital.Status</th>\n",
       "      <th>...</th>\n",
       "      <th>Months.Since.Policy.Inception</th>\n",
       "      <th>Number.of.Open.Complaints</th>\n",
       "      <th>Number.of.Policies</th>\n",
       "      <th>Policy.Type</th>\n",
       "      <th>Policy</th>\n",
       "      <th>Renew.Offer.Type</th>\n",
       "      <th>Sales.Channel</th>\n",
       "      <th>Total.Claim.Amount</th>\n",
       "      <th>Vehicle.Class</th>\n",
       "      <th>Vehicle.Size</th>\n",
       "    </tr>\n",
       "  </thead>\n",
       "  <tbody>\n",
       "    <tr>\n",
       "      <th>0</th>\n",
       "      <td>1</td>\n",
       "      <td>2763.519279</td>\n",
       "      <td>No</td>\n",
       "      <td>Basic</td>\n",
       "      <td>Bachelor</td>\n",
       "      <td>Employed</td>\n",
       "      <td>F</td>\n",
       "      <td>56274</td>\n",
       "      <td>Suburban</td>\n",
       "      <td>Married</td>\n",
       "      <td>...</td>\n",
       "      <td>5</td>\n",
       "      <td>0</td>\n",
       "      <td>1</td>\n",
       "      <td>Corporate Auto</td>\n",
       "      <td>Corporate L3</td>\n",
       "      <td>Offer1</td>\n",
       "      <td>Agent</td>\n",
       "      <td>384.811147</td>\n",
       "      <td>Two-Door Car</td>\n",
       "      <td>Medsize</td>\n",
       "    </tr>\n",
       "    <tr>\n",
       "      <th>1</th>\n",
       "      <td>2</td>\n",
       "      <td>6979.535903</td>\n",
       "      <td>No</td>\n",
       "      <td>Extended</td>\n",
       "      <td>Bachelor</td>\n",
       "      <td>Unemployed</td>\n",
       "      <td>F</td>\n",
       "      <td>0</td>\n",
       "      <td>Suburban</td>\n",
       "      <td>Single</td>\n",
       "      <td>...</td>\n",
       "      <td>42</td>\n",
       "      <td>0</td>\n",
       "      <td>8</td>\n",
       "      <td>Personal Auto</td>\n",
       "      <td>Personal L3</td>\n",
       "      <td>Offer3</td>\n",
       "      <td>Agent</td>\n",
       "      <td>1131.464935</td>\n",
       "      <td>Four-Door Car</td>\n",
       "      <td>Medsize</td>\n",
       "    </tr>\n",
       "    <tr>\n",
       "      <th>2</th>\n",
       "      <td>3</td>\n",
       "      <td>12887.431650</td>\n",
       "      <td>No</td>\n",
       "      <td>Premium</td>\n",
       "      <td>Bachelor</td>\n",
       "      <td>Employed</td>\n",
       "      <td>F</td>\n",
       "      <td>48767</td>\n",
       "      <td>Suburban</td>\n",
       "      <td>Married</td>\n",
       "      <td>...</td>\n",
       "      <td>38</td>\n",
       "      <td>0</td>\n",
       "      <td>2</td>\n",
       "      <td>Personal Auto</td>\n",
       "      <td>Personal L3</td>\n",
       "      <td>Offer1</td>\n",
       "      <td>Agent</td>\n",
       "      <td>566.472247</td>\n",
       "      <td>Two-Door Car</td>\n",
       "      <td>Medsize</td>\n",
       "    </tr>\n",
       "    <tr>\n",
       "      <th>3</th>\n",
       "      <td>4</td>\n",
       "      <td>7645.861827</td>\n",
       "      <td>No</td>\n",
       "      <td>Basic</td>\n",
       "      <td>Bachelor</td>\n",
       "      <td>Unemployed</td>\n",
       "      <td>M</td>\n",
       "      <td>0</td>\n",
       "      <td>Suburban</td>\n",
       "      <td>Married</td>\n",
       "      <td>...</td>\n",
       "      <td>65</td>\n",
       "      <td>0</td>\n",
       "      <td>7</td>\n",
       "      <td>Corporate Auto</td>\n",
       "      <td>Corporate L2</td>\n",
       "      <td>Offer1</td>\n",
       "      <td>Call Center</td>\n",
       "      <td>529.881344</td>\n",
       "      <td>SUV</td>\n",
       "      <td>Medsize</td>\n",
       "    </tr>\n",
       "    <tr>\n",
       "      <th>4</th>\n",
       "      <td>5</td>\n",
       "      <td>2813.692575</td>\n",
       "      <td>No</td>\n",
       "      <td>Basic</td>\n",
       "      <td>Bachelor</td>\n",
       "      <td>Employed</td>\n",
       "      <td>M</td>\n",
       "      <td>43836</td>\n",
       "      <td>Rural</td>\n",
       "      <td>Single</td>\n",
       "      <td>...</td>\n",
       "      <td>44</td>\n",
       "      <td>0</td>\n",
       "      <td>1</td>\n",
       "      <td>Personal Auto</td>\n",
       "      <td>Personal L1</td>\n",
       "      <td>Offer1</td>\n",
       "      <td>Agent</td>\n",
       "      <td>138.130879</td>\n",
       "      <td>Four-Door Car</td>\n",
       "      <td>Medsize</td>\n",
       "    </tr>\n",
       "  </tbody>\n",
       "</table>\n",
       "<p>5 rows × 22 columns</p>\n",
       "</div>"
      ],
      "text/plain": [
       "   Unnamed: 0           clv Response  Coverage Education EmploymentStatus  \\\n",
       "0           1   2763.519279       No     Basic  Bachelor         Employed   \n",
       "1           2   6979.535903       No  Extended  Bachelor       Unemployed   \n",
       "2           3  12887.431650       No   Premium  Bachelor         Employed   \n",
       "3           4   7645.861827       No     Basic  Bachelor       Unemployed   \n",
       "4           5   2813.692575       No     Basic  Bachelor         Employed   \n",
       "\n",
       "  Gender  Income Location.Code Marital.Status  ...  \\\n",
       "0      F   56274      Suburban        Married  ...   \n",
       "1      F       0      Suburban         Single  ...   \n",
       "2      F   48767      Suburban        Married  ...   \n",
       "3      M       0      Suburban        Married  ...   \n",
       "4      M   43836         Rural         Single  ...   \n",
       "\n",
       "   Months.Since.Policy.Inception  Number.of.Open.Complaints  \\\n",
       "0                              5                          0   \n",
       "1                             42                          0   \n",
       "2                             38                          0   \n",
       "3                             65                          0   \n",
       "4                             44                          0   \n",
       "\n",
       "   Number.of.Policies     Policy.Type        Policy Renew.Offer.Type  \\\n",
       "0                   1  Corporate Auto  Corporate L3           Offer1   \n",
       "1                   8   Personal Auto   Personal L3           Offer3   \n",
       "2                   2   Personal Auto   Personal L3           Offer1   \n",
       "3                   7  Corporate Auto  Corporate L2           Offer1   \n",
       "4                   1   Personal Auto   Personal L1           Offer1   \n",
       "\n",
       "  Sales.Channel Total.Claim.Amount  Vehicle.Class  Vehicle.Size  \n",
       "0         Agent         384.811147   Two-Door Car       Medsize  \n",
       "1         Agent        1131.464935  Four-Door Car       Medsize  \n",
       "2         Agent         566.472247   Two-Door Car       Medsize  \n",
       "3   Call Center         529.881344            SUV       Medsize  \n",
       "4         Agent         138.130879  Four-Door Car       Medsize  \n",
       "\n",
       "[5 rows x 22 columns]"
      ]
     },
     "execution_count": 170,
     "metadata": {},
     "output_type": "execute_result"
    }
   ],
   "source": [
    "data=pd.read_csv('Vehicle Insurance.csv')\n",
    "data.head(5)"
   ]
  },
  {
   "cell_type": "code",
   "execution_count": 171,
   "metadata": {},
   "outputs": [],
   "source": [
    "data=data.drop('Unnamed: 0',axis=1)"
   ]
  },
  {
   "cell_type": "code",
   "execution_count": 172,
   "metadata": {},
   "outputs": [
    {
     "data": {
      "text/plain": [
       "(8630, 21)"
      ]
     },
     "execution_count": 172,
     "metadata": {},
     "output_type": "execute_result"
    }
   ],
   "source": [
    "data.shape"
   ]
  },
  {
   "cell_type": "code",
   "execution_count": 173,
   "metadata": {},
   "outputs": [
    {
     "data": {
      "text/plain": [
       "clv                              float64\n",
       "Response                          object\n",
       "Coverage                          object\n",
       "Education                         object\n",
       "EmploymentStatus                  object\n",
       "Gender                            object\n",
       "Income                             int64\n",
       "Location.Code                     object\n",
       "Marital.Status                    object\n",
       "Monthly.Premium.Auto               int64\n",
       "Months.Since.Last.Claim            int64\n",
       "Months.Since.Policy.Inception      int64\n",
       "Number.of.Open.Complaints          int64\n",
       "Number.of.Policies                 int64\n",
       "Policy.Type                       object\n",
       "Policy                            object\n",
       "Renew.Offer.Type                  object\n",
       "Sales.Channel                     object\n",
       "Total.Claim.Amount               float64\n",
       "Vehicle.Class                     object\n",
       "Vehicle.Size                      object\n",
       "dtype: object"
      ]
     },
     "execution_count": 173,
     "metadata": {},
     "output_type": "execute_result"
    }
   ],
   "source": [
    "data.dtypes"
   ]
  },
  {
   "cell_type": "code",
   "execution_count": 174,
   "metadata": {},
   "outputs": [],
   "source": [
    "data['Response'] = data['Response'].apply(lambda x: 1 if x == 'Yes' else 0)"
   ]
  },
  {
   "cell_type": "code",
   "execution_count": null,
   "metadata": {},
   "outputs": [],
   "source": []
  },
  {
   "cell_type": "code",
   "execution_count": 175,
   "metadata": {},
   "outputs": [
    {
     "data": {
      "text/plain": [
       "clv                              0\n",
       "Response                         0\n",
       "Coverage                         0\n",
       "Education                        0\n",
       "EmploymentStatus                 0\n",
       "Gender                           0\n",
       "Income                           0\n",
       "Location.Code                    0\n",
       "Marital.Status                   0\n",
       "Monthly.Premium.Auto             0\n",
       "Months.Since.Last.Claim          0\n",
       "Months.Since.Policy.Inception    0\n",
       "Number.of.Open.Complaints        0\n",
       "Number.of.Policies               0\n",
       "Policy.Type                      0\n",
       "Policy                           0\n",
       "Renew.Offer.Type                 0\n",
       "Sales.Channel                    0\n",
       "Total.Claim.Amount               0\n",
       "Vehicle.Class                    0\n",
       "Vehicle.Size                     0\n",
       "dtype: int64"
      ]
     },
     "execution_count": 175,
     "metadata": {},
     "output_type": "execute_result"
    }
   ],
   "source": [
    "data.isnull().sum()"
   ]
  },
  {
   "cell_type": "code",
   "execution_count": 176,
   "metadata": {},
   "outputs": [
    {
     "data": {
      "text/html": [
       "<div>\n",
       "<style scoped>\n",
       "    .dataframe tbody tr th:only-of-type {\n",
       "        vertical-align: middle;\n",
       "    }\n",
       "\n",
       "    .dataframe tbody tr th {\n",
       "        vertical-align: top;\n",
       "    }\n",
       "\n",
       "    .dataframe thead th {\n",
       "        text-align: right;\n",
       "    }\n",
       "</style>\n",
       "<table border=\"1\" class=\"dataframe\">\n",
       "  <thead>\n",
       "    <tr style=\"text-align: right;\">\n",
       "      <th></th>\n",
       "      <th>clv</th>\n",
       "      <th>Response</th>\n",
       "      <th>Income</th>\n",
       "      <th>Monthly.Premium.Auto</th>\n",
       "      <th>Months.Since.Last.Claim</th>\n",
       "      <th>Months.Since.Policy.Inception</th>\n",
       "      <th>Number.of.Open.Complaints</th>\n",
       "      <th>Number.of.Policies</th>\n",
       "      <th>Total.Claim.Amount</th>\n",
       "    </tr>\n",
       "  </thead>\n",
       "  <tbody>\n",
       "    <tr>\n",
       "      <th>count</th>\n",
       "      <td>8630.000000</td>\n",
       "      <td>8630.000000</td>\n",
       "      <td>8630.000000</td>\n",
       "      <td>8630.000000</td>\n",
       "      <td>8630.000000</td>\n",
       "      <td>8630.000000</td>\n",
       "      <td>8630.000000</td>\n",
       "      <td>8630.000000</td>\n",
       "      <td>8630.000000</td>\n",
       "    </tr>\n",
       "    <tr>\n",
       "      <th>mean</th>\n",
       "      <td>6725.281515</td>\n",
       "      <td>0.142526</td>\n",
       "      <td>37586.405794</td>\n",
       "      <td>91.677057</td>\n",
       "      <td>15.084473</td>\n",
       "      <td>48.004287</td>\n",
       "      <td>0.389108</td>\n",
       "      <td>3.020626</td>\n",
       "      <td>427.131607</td>\n",
       "    </tr>\n",
       "    <tr>\n",
       "      <th>std</th>\n",
       "      <td>3934.876313</td>\n",
       "      <td>0.349609</td>\n",
       "      <td>30453.838594</td>\n",
       "      <td>32.648209</td>\n",
       "      <td>10.048979</td>\n",
       "      <td>27.880693</td>\n",
       "      <td>0.920491</td>\n",
       "      <td>2.445994</td>\n",
       "      <td>282.722326</td>\n",
       "    </tr>\n",
       "    <tr>\n",
       "      <th>min</th>\n",
       "      <td>1898.007675</td>\n",
       "      <td>0.000000</td>\n",
       "      <td>0.000000</td>\n",
       "      <td>61.000000</td>\n",
       "      <td>0.000000</td>\n",
       "      <td>0.000000</td>\n",
       "      <td>0.000000</td>\n",
       "      <td>1.000000</td>\n",
       "      <td>0.099007</td>\n",
       "    </tr>\n",
       "    <tr>\n",
       "      <th>25%</th>\n",
       "      <td>3858.177183</td>\n",
       "      <td>0.000000</td>\n",
       "      <td>0.000000</td>\n",
       "      <td>68.000000</td>\n",
       "      <td>6.000000</td>\n",
       "      <td>24.000000</td>\n",
       "      <td>0.000000</td>\n",
       "      <td>1.000000</td>\n",
       "      <td>268.881398</td>\n",
       "    </tr>\n",
       "    <tr>\n",
       "      <th>50%</th>\n",
       "      <td>5569.220419</td>\n",
       "      <td>0.000000</td>\n",
       "      <td>33817.000000</td>\n",
       "      <td>81.000000</td>\n",
       "      <td>14.000000</td>\n",
       "      <td>48.000000</td>\n",
       "      <td>0.000000</td>\n",
       "      <td>2.000000</td>\n",
       "      <td>376.880363</td>\n",
       "    </tr>\n",
       "    <tr>\n",
       "      <th>75%</th>\n",
       "      <td>8456.408530</td>\n",
       "      <td>0.000000</td>\n",
       "      <td>62250.750000</td>\n",
       "      <td>108.000000</td>\n",
       "      <td>23.000000</td>\n",
       "      <td>71.000000</td>\n",
       "      <td>0.000000</td>\n",
       "      <td>4.000000</td>\n",
       "      <td>542.400000</td>\n",
       "    </tr>\n",
       "    <tr>\n",
       "      <th>max</th>\n",
       "      <td>21235.445570</td>\n",
       "      <td>1.000000</td>\n",
       "      <td>99981.000000</td>\n",
       "      <td>298.000000</td>\n",
       "      <td>35.000000</td>\n",
       "      <td>99.000000</td>\n",
       "      <td>5.000000</td>\n",
       "      <td>9.000000</td>\n",
       "      <td>2893.239678</td>\n",
       "    </tr>\n",
       "  </tbody>\n",
       "</table>\n",
       "</div>"
      ],
      "text/plain": [
       "                clv     Response        Income  Monthly.Premium.Auto  \\\n",
       "count   8630.000000  8630.000000   8630.000000           8630.000000   \n",
       "mean    6725.281515     0.142526  37586.405794             91.677057   \n",
       "std     3934.876313     0.349609  30453.838594             32.648209   \n",
       "min     1898.007675     0.000000      0.000000             61.000000   \n",
       "25%     3858.177183     0.000000      0.000000             68.000000   \n",
       "50%     5569.220419     0.000000  33817.000000             81.000000   \n",
       "75%     8456.408530     0.000000  62250.750000            108.000000   \n",
       "max    21235.445570     1.000000  99981.000000            298.000000   \n",
       "\n",
       "       Months.Since.Last.Claim  Months.Since.Policy.Inception  \\\n",
       "count              8630.000000                    8630.000000   \n",
       "mean                 15.084473                      48.004287   \n",
       "std                  10.048979                      27.880693   \n",
       "min                   0.000000                       0.000000   \n",
       "25%                   6.000000                      24.000000   \n",
       "50%                  14.000000                      48.000000   \n",
       "75%                  23.000000                      71.000000   \n",
       "max                  35.000000                      99.000000   \n",
       "\n",
       "       Number.of.Open.Complaints  Number.of.Policies  Total.Claim.Amount  \n",
       "count                8630.000000         8630.000000         8630.000000  \n",
       "mean                    0.389108            3.020626          427.131607  \n",
       "std                     0.920491            2.445994          282.722326  \n",
       "min                     0.000000            1.000000            0.099007  \n",
       "25%                     0.000000            1.000000          268.881398  \n",
       "50%                     0.000000            2.000000          376.880363  \n",
       "75%                     0.000000            4.000000          542.400000  \n",
       "max                     5.000000            9.000000         2893.239678  "
      ]
     },
     "execution_count": 176,
     "metadata": {},
     "output_type": "execute_result"
    }
   ],
   "source": [
    "data.describe()"
   ]
  },
  {
   "cell_type": "raw",
   "metadata": {},
   "source": [
    "0.14480, meaning our average engagement rate is roughly 14%."
   ]
  },
  {
   "cell_type": "code",
   "execution_count": 177,
   "metadata": {},
   "outputs": [
    {
     "data": {
      "text/html": [
       "<div>\n",
       "<style scoped>\n",
       "    .dataframe tbody tr th:only-of-type {\n",
       "        vertical-align: middle;\n",
       "    }\n",
       "\n",
       "    .dataframe tbody tr th {\n",
       "        vertical-align: top;\n",
       "    }\n",
       "\n",
       "    .dataframe thead th {\n",
       "        text-align: right;\n",
       "    }\n",
       "</style>\n",
       "<table border=\"1\" class=\"dataframe\">\n",
       "  <thead>\n",
       "    <tr style=\"text-align: right;\">\n",
       "      <th></th>\n",
       "      <th>clv</th>\n",
       "      <th>Response</th>\n",
       "      <th>Coverage</th>\n",
       "      <th>Education</th>\n",
       "      <th>EmploymentStatus</th>\n",
       "      <th>Gender</th>\n",
       "      <th>Income</th>\n",
       "      <th>Location.Code</th>\n",
       "      <th>Marital.Status</th>\n",
       "      <th>Monthly.Premium.Auto</th>\n",
       "      <th>...</th>\n",
       "      <th>Months.Since.Policy.Inception</th>\n",
       "      <th>Number.of.Open.Complaints</th>\n",
       "      <th>Number.of.Policies</th>\n",
       "      <th>Policy.Type</th>\n",
       "      <th>Policy</th>\n",
       "      <th>Renew.Offer.Type</th>\n",
       "      <th>Sales.Channel</th>\n",
       "      <th>Total.Claim.Amount</th>\n",
       "      <th>Vehicle.Class</th>\n",
       "      <th>Vehicle.Size</th>\n",
       "    </tr>\n",
       "  </thead>\n",
       "  <tbody>\n",
       "    <tr>\n",
       "      <th>count</th>\n",
       "      <td>8630.000000</td>\n",
       "      <td>8630.000000</td>\n",
       "      <td>8630</td>\n",
       "      <td>8630</td>\n",
       "      <td>8630</td>\n",
       "      <td>8630</td>\n",
       "      <td>8630.000000</td>\n",
       "      <td>8630</td>\n",
       "      <td>8630</td>\n",
       "      <td>8630.000000</td>\n",
       "      <td>...</td>\n",
       "      <td>8630.000000</td>\n",
       "      <td>8630.000000</td>\n",
       "      <td>8630.000000</td>\n",
       "      <td>8630</td>\n",
       "      <td>8630</td>\n",
       "      <td>8630</td>\n",
       "      <td>8630</td>\n",
       "      <td>8630.000000</td>\n",
       "      <td>8630</td>\n",
       "      <td>8630</td>\n",
       "    </tr>\n",
       "    <tr>\n",
       "      <th>unique</th>\n",
       "      <td>NaN</td>\n",
       "      <td>NaN</td>\n",
       "      <td>3</td>\n",
       "      <td>5</td>\n",
       "      <td>5</td>\n",
       "      <td>2</td>\n",
       "      <td>NaN</td>\n",
       "      <td>3</td>\n",
       "      <td>3</td>\n",
       "      <td>NaN</td>\n",
       "      <td>...</td>\n",
       "      <td>NaN</td>\n",
       "      <td>NaN</td>\n",
       "      <td>NaN</td>\n",
       "      <td>3</td>\n",
       "      <td>9</td>\n",
       "      <td>4</td>\n",
       "      <td>4</td>\n",
       "      <td>NaN</td>\n",
       "      <td>6</td>\n",
       "      <td>3</td>\n",
       "    </tr>\n",
       "    <tr>\n",
       "      <th>top</th>\n",
       "      <td>NaN</td>\n",
       "      <td>NaN</td>\n",
       "      <td>Basic</td>\n",
       "      <td>Bachelor</td>\n",
       "      <td>Employed</td>\n",
       "      <td>F</td>\n",
       "      <td>NaN</td>\n",
       "      <td>Suburban</td>\n",
       "      <td>Married</td>\n",
       "      <td>NaN</td>\n",
       "      <td>...</td>\n",
       "      <td>NaN</td>\n",
       "      <td>NaN</td>\n",
       "      <td>NaN</td>\n",
       "      <td>Personal Auto</td>\n",
       "      <td>Personal L3</td>\n",
       "      <td>Offer1</td>\n",
       "      <td>Agent</td>\n",
       "      <td>NaN</td>\n",
       "      <td>Four-Door Car</td>\n",
       "      <td>Medsize</td>\n",
       "    </tr>\n",
       "    <tr>\n",
       "      <th>freq</th>\n",
       "      <td>NaN</td>\n",
       "      <td>NaN</td>\n",
       "      <td>5314</td>\n",
       "      <td>2592</td>\n",
       "      <td>5366</td>\n",
       "      <td>4390</td>\n",
       "      <td>NaN</td>\n",
       "      <td>5467</td>\n",
       "      <td>4999</td>\n",
       "      <td>NaN</td>\n",
       "      <td>...</td>\n",
       "      <td>NaN</td>\n",
       "      <td>NaN</td>\n",
       "      <td>NaN</td>\n",
       "      <td>6412</td>\n",
       "      <td>3234</td>\n",
       "      <td>3518</td>\n",
       "      <td>3305</td>\n",
       "      <td>NaN</td>\n",
       "      <td>4461</td>\n",
       "      <td>6061</td>\n",
       "    </tr>\n",
       "    <tr>\n",
       "      <th>mean</th>\n",
       "      <td>6725.281515</td>\n",
       "      <td>0.142526</td>\n",
       "      <td>NaN</td>\n",
       "      <td>NaN</td>\n",
       "      <td>NaN</td>\n",
       "      <td>NaN</td>\n",
       "      <td>37586.405794</td>\n",
       "      <td>NaN</td>\n",
       "      <td>NaN</td>\n",
       "      <td>91.677057</td>\n",
       "      <td>...</td>\n",
       "      <td>48.004287</td>\n",
       "      <td>0.389108</td>\n",
       "      <td>3.020626</td>\n",
       "      <td>NaN</td>\n",
       "      <td>NaN</td>\n",
       "      <td>NaN</td>\n",
       "      <td>NaN</td>\n",
       "      <td>427.131607</td>\n",
       "      <td>NaN</td>\n",
       "      <td>NaN</td>\n",
       "    </tr>\n",
       "    <tr>\n",
       "      <th>std</th>\n",
       "      <td>3934.876313</td>\n",
       "      <td>0.349609</td>\n",
       "      <td>NaN</td>\n",
       "      <td>NaN</td>\n",
       "      <td>NaN</td>\n",
       "      <td>NaN</td>\n",
       "      <td>30453.838594</td>\n",
       "      <td>NaN</td>\n",
       "      <td>NaN</td>\n",
       "      <td>32.648209</td>\n",
       "      <td>...</td>\n",
       "      <td>27.880693</td>\n",
       "      <td>0.920491</td>\n",
       "      <td>2.445994</td>\n",
       "      <td>NaN</td>\n",
       "      <td>NaN</td>\n",
       "      <td>NaN</td>\n",
       "      <td>NaN</td>\n",
       "      <td>282.722326</td>\n",
       "      <td>NaN</td>\n",
       "      <td>NaN</td>\n",
       "    </tr>\n",
       "    <tr>\n",
       "      <th>min</th>\n",
       "      <td>1898.007675</td>\n",
       "      <td>0.000000</td>\n",
       "      <td>NaN</td>\n",
       "      <td>NaN</td>\n",
       "      <td>NaN</td>\n",
       "      <td>NaN</td>\n",
       "      <td>0.000000</td>\n",
       "      <td>NaN</td>\n",
       "      <td>NaN</td>\n",
       "      <td>61.000000</td>\n",
       "      <td>...</td>\n",
       "      <td>0.000000</td>\n",
       "      <td>0.000000</td>\n",
       "      <td>1.000000</td>\n",
       "      <td>NaN</td>\n",
       "      <td>NaN</td>\n",
       "      <td>NaN</td>\n",
       "      <td>NaN</td>\n",
       "      <td>0.099007</td>\n",
       "      <td>NaN</td>\n",
       "      <td>NaN</td>\n",
       "    </tr>\n",
       "    <tr>\n",
       "      <th>25%</th>\n",
       "      <td>3858.177183</td>\n",
       "      <td>0.000000</td>\n",
       "      <td>NaN</td>\n",
       "      <td>NaN</td>\n",
       "      <td>NaN</td>\n",
       "      <td>NaN</td>\n",
       "      <td>0.000000</td>\n",
       "      <td>NaN</td>\n",
       "      <td>NaN</td>\n",
       "      <td>68.000000</td>\n",
       "      <td>...</td>\n",
       "      <td>24.000000</td>\n",
       "      <td>0.000000</td>\n",
       "      <td>1.000000</td>\n",
       "      <td>NaN</td>\n",
       "      <td>NaN</td>\n",
       "      <td>NaN</td>\n",
       "      <td>NaN</td>\n",
       "      <td>268.881398</td>\n",
       "      <td>NaN</td>\n",
       "      <td>NaN</td>\n",
       "    </tr>\n",
       "    <tr>\n",
       "      <th>50%</th>\n",
       "      <td>5569.220419</td>\n",
       "      <td>0.000000</td>\n",
       "      <td>NaN</td>\n",
       "      <td>NaN</td>\n",
       "      <td>NaN</td>\n",
       "      <td>NaN</td>\n",
       "      <td>33817.000000</td>\n",
       "      <td>NaN</td>\n",
       "      <td>NaN</td>\n",
       "      <td>81.000000</td>\n",
       "      <td>...</td>\n",
       "      <td>48.000000</td>\n",
       "      <td>0.000000</td>\n",
       "      <td>2.000000</td>\n",
       "      <td>NaN</td>\n",
       "      <td>NaN</td>\n",
       "      <td>NaN</td>\n",
       "      <td>NaN</td>\n",
       "      <td>376.880363</td>\n",
       "      <td>NaN</td>\n",
       "      <td>NaN</td>\n",
       "    </tr>\n",
       "    <tr>\n",
       "      <th>75%</th>\n",
       "      <td>8456.408530</td>\n",
       "      <td>0.000000</td>\n",
       "      <td>NaN</td>\n",
       "      <td>NaN</td>\n",
       "      <td>NaN</td>\n",
       "      <td>NaN</td>\n",
       "      <td>62250.750000</td>\n",
       "      <td>NaN</td>\n",
       "      <td>NaN</td>\n",
       "      <td>108.000000</td>\n",
       "      <td>...</td>\n",
       "      <td>71.000000</td>\n",
       "      <td>0.000000</td>\n",
       "      <td>4.000000</td>\n",
       "      <td>NaN</td>\n",
       "      <td>NaN</td>\n",
       "      <td>NaN</td>\n",
       "      <td>NaN</td>\n",
       "      <td>542.400000</td>\n",
       "      <td>NaN</td>\n",
       "      <td>NaN</td>\n",
       "    </tr>\n",
       "    <tr>\n",
       "      <th>max</th>\n",
       "      <td>21235.445570</td>\n",
       "      <td>1.000000</td>\n",
       "      <td>NaN</td>\n",
       "      <td>NaN</td>\n",
       "      <td>NaN</td>\n",
       "      <td>NaN</td>\n",
       "      <td>99981.000000</td>\n",
       "      <td>NaN</td>\n",
       "      <td>NaN</td>\n",
       "      <td>298.000000</td>\n",
       "      <td>...</td>\n",
       "      <td>99.000000</td>\n",
       "      <td>5.000000</td>\n",
       "      <td>9.000000</td>\n",
       "      <td>NaN</td>\n",
       "      <td>NaN</td>\n",
       "      <td>NaN</td>\n",
       "      <td>NaN</td>\n",
       "      <td>2893.239678</td>\n",
       "      <td>NaN</td>\n",
       "      <td>NaN</td>\n",
       "    </tr>\n",
       "  </tbody>\n",
       "</table>\n",
       "<p>11 rows × 21 columns</p>\n",
       "</div>"
      ],
      "text/plain": [
       "                 clv     Response Coverage Education EmploymentStatus Gender  \\\n",
       "count    8630.000000  8630.000000     8630      8630             8630   8630   \n",
       "unique           NaN          NaN        3         5                5      2   \n",
       "top              NaN          NaN    Basic  Bachelor         Employed      F   \n",
       "freq             NaN          NaN     5314      2592             5366   4390   \n",
       "mean     6725.281515     0.142526      NaN       NaN              NaN    NaN   \n",
       "std      3934.876313     0.349609      NaN       NaN              NaN    NaN   \n",
       "min      1898.007675     0.000000      NaN       NaN              NaN    NaN   \n",
       "25%      3858.177183     0.000000      NaN       NaN              NaN    NaN   \n",
       "50%      5569.220419     0.000000      NaN       NaN              NaN    NaN   \n",
       "75%      8456.408530     0.000000      NaN       NaN              NaN    NaN   \n",
       "max     21235.445570     1.000000      NaN       NaN              NaN    NaN   \n",
       "\n",
       "              Income Location.Code Marital.Status  Monthly.Premium.Auto  ...  \\\n",
       "count    8630.000000          8630           8630           8630.000000  ...   \n",
       "unique           NaN             3              3                   NaN  ...   \n",
       "top              NaN      Suburban        Married                   NaN  ...   \n",
       "freq             NaN          5467           4999                   NaN  ...   \n",
       "mean    37586.405794           NaN            NaN             91.677057  ...   \n",
       "std     30453.838594           NaN            NaN             32.648209  ...   \n",
       "min         0.000000           NaN            NaN             61.000000  ...   \n",
       "25%         0.000000           NaN            NaN             68.000000  ...   \n",
       "50%     33817.000000           NaN            NaN             81.000000  ...   \n",
       "75%     62250.750000           NaN            NaN            108.000000  ...   \n",
       "max     99981.000000           NaN            NaN            298.000000  ...   \n",
       "\n",
       "        Months.Since.Policy.Inception  Number.of.Open.Complaints  \\\n",
       "count                     8630.000000                8630.000000   \n",
       "unique                            NaN                        NaN   \n",
       "top                               NaN                        NaN   \n",
       "freq                              NaN                        NaN   \n",
       "mean                        48.004287                   0.389108   \n",
       "std                         27.880693                   0.920491   \n",
       "min                          0.000000                   0.000000   \n",
       "25%                         24.000000                   0.000000   \n",
       "50%                         48.000000                   0.000000   \n",
       "75%                         71.000000                   0.000000   \n",
       "max                         99.000000                   5.000000   \n",
       "\n",
       "        Number.of.Policies    Policy.Type       Policy Renew.Offer.Type  \\\n",
       "count          8630.000000           8630         8630             8630   \n",
       "unique                 NaN              3            9                4   \n",
       "top                    NaN  Personal Auto  Personal L3           Offer1   \n",
       "freq                   NaN           6412         3234             3518   \n",
       "mean              3.020626            NaN          NaN              NaN   \n",
       "std               2.445994            NaN          NaN              NaN   \n",
       "min               1.000000            NaN          NaN              NaN   \n",
       "25%               1.000000            NaN          NaN              NaN   \n",
       "50%               2.000000            NaN          NaN              NaN   \n",
       "75%               4.000000            NaN          NaN              NaN   \n",
       "max               9.000000            NaN          NaN              NaN   \n",
       "\n",
       "       Sales.Channel Total.Claim.Amount  Vehicle.Class Vehicle.Size  \n",
       "count           8630        8630.000000           8630         8630  \n",
       "unique             4                NaN              6            3  \n",
       "top            Agent                NaN  Four-Door Car      Medsize  \n",
       "freq            3305                NaN           4461         6061  \n",
       "mean             NaN         427.131607            NaN          NaN  \n",
       "std              NaN         282.722326            NaN          NaN  \n",
       "min              NaN           0.099007            NaN          NaN  \n",
       "25%              NaN         268.881398            NaN          NaN  \n",
       "50%              NaN         376.880363            NaN          NaN  \n",
       "75%              NaN         542.400000            NaN          NaN  \n",
       "max              NaN        2893.239678            NaN          NaN  \n",
       "\n",
       "[11 rows x 21 columns]"
      ]
     },
     "execution_count": 177,
     "metadata": {},
     "output_type": "execute_result"
    }
   ],
   "source": [
    "data.describe(include='all')"
   ]
  },
  {
   "cell_type": "markdown",
   "metadata": {},
   "source": [
    "EDA"
   ]
  },
  {
   "cell_type": "code",
   "execution_count": 178,
   "metadata": {},
   "outputs": [
    {
     "name": "stdout",
     "output_type": "stream",
     "text": [
      "<class 'pandas.core.frame.DataFrame'>\n",
      "RangeIndex: 8630 entries, 0 to 8629\n",
      "Data columns (total 21 columns):\n",
      " #   Column                         Non-Null Count  Dtype  \n",
      "---  ------                         --------------  -----  \n",
      " 0   clv                            8630 non-null   float64\n",
      " 1   Response                       8630 non-null   int64  \n",
      " 2   Coverage                       8630 non-null   object \n",
      " 3   Education                      8630 non-null   object \n",
      " 4   EmploymentStatus               8630 non-null   object \n",
      " 5   Gender                         8630 non-null   object \n",
      " 6   Income                         8630 non-null   int64  \n",
      " 7   Location.Code                  8630 non-null   object \n",
      " 8   Marital.Status                 8630 non-null   object \n",
      " 9   Monthly.Premium.Auto           8630 non-null   int64  \n",
      " 10  Months.Since.Last.Claim        8630 non-null   int64  \n",
      " 11  Months.Since.Policy.Inception  8630 non-null   int64  \n",
      " 12  Number.of.Open.Complaints      8630 non-null   int64  \n",
      " 13  Number.of.Policies             8630 non-null   int64  \n",
      " 14  Policy.Type                    8630 non-null   object \n",
      " 15  Policy                         8630 non-null   object \n",
      " 16  Renew.Offer.Type               8630 non-null   object \n",
      " 17  Sales.Channel                  8630 non-null   object \n",
      " 18  Total.Claim.Amount             8630 non-null   float64\n",
      " 19  Vehicle.Class                  8630 non-null   object \n",
      " 20  Vehicle.Size                   8630 non-null   object \n",
      "dtypes: float64(2), int64(7), object(12)\n",
      "memory usage: 1.4+ MB\n"
     ]
    }
   ],
   "source": [
    "data.info()"
   ]
  },
  {
   "cell_type": "raw",
   "metadata": {},
   "source": [
    "1.1 Response Rate"
   ]
  },
  {
   "cell_type": "code",
   "execution_count": 179,
   "metadata": {},
   "outputs": [
    {
     "data": {
      "image/png": "[encoded data removed]",
      "text/plain": [
       "<Figure size 432x288 with 1 Axes>"
      ]
     },
     "metadata": {},
     "output_type": "display_data"
    }
   ],
   "source": [
    "ax = sns.countplot('Response',data = data)\n",
    "plt.ylabel('Total number of Response')\n",
    "annot_plot(ax, 0.08,1)\n",
    "plt.show()"
   ]
  },
  {
   "cell_type": "raw",
   "metadata": {},
   "source": [
    "about 14% customers have responded to marketing calls, and the remaining 86% of the customers have not responded."
   ]
  },
  {
   "cell_type": "code",
   "execution_count": 180,
   "metadata": {},
   "outputs": [
    {
     "data": {
      "image/png": "[encoded data removed]",
      "text/plain": [
       "<Figure size 432x288 with 1 Axes>"
      ]
     },
     "metadata": {},
     "output_type": "display_data"
    }
   ],
   "source": [
    "ax = sns.countplot('Response',hue = 'Gender' ,data = data)\n",
    "plt.ylabel('Total number of Response')\n",
    "annot_plot(ax, 0.08,1)\n",
    "plt.show()"
   ]
  },
  {
   "cell_type": "markdown",
   "metadata": {},
   "source": [
    "ratio of male and female for responding to a marketing call is almost same."
   ]
  },
  {
   "cell_type": "code",
   "execution_count": 181,
   "metadata": {},
   "outputs": [
    {
     "data": {
      "image/png": "[encoded data removed]",
      "text/plain": [
       "<Figure size 864x432 with 1 Axes>"
      ]
     },
     "metadata": {},
     "output_type": "display_data"
    }
   ],
   "source": [
    "plt.figure(figsize=(12,6))\n",
    "ax = sns.countplot('Response', hue = data['Marital.Status'], data = data)\n",
    "annot_plot(ax,0.08,1)\n",
    "plt.show()"
   ]
  },
  {
   "cell_type": "markdown",
   "metadata": {},
   "source": [
    "out of 14% customers, 8% customers those who rsponded to marketing calls are from married category."
   ]
  },
  {
   "cell_type": "markdown",
   "metadata": {},
   "source": [
    "2.1.1 Response rate by renew offer"
   ]
  },
  {
   "cell_type": "code",
   "execution_count": 182,
   "metadata": {},
   "outputs": [
    {
     "data": {
      "image/png": "[encoded data removed]",
      "text/plain": [
       "<Figure size 720x432 with 1 Axes>"
      ]
     },
     "metadata": {},
     "output_type": "display_data"
    }
   ],
   "source": [
    "plt.figure(figsize=(10,6))\n",
    "ax = sns.countplot('Response',hue = 'Renew.Offer.Type' ,data = data)\n",
    "plt.ylabel('Total number of Response')\n",
    "annot_plot(ax, 0.08,1)\n",
    "plt.show()"
   ]
  },
  {
   "cell_type": "raw",
   "metadata": {},
   "source": [
    "Renewal Offer Type 2 has the highest engagement rate"
   ]
  },
  {
   "cell_type": "raw",
   "metadata": {},
   "source": [
    "For offer1 and offer2 customers have responded to marketing calls,but for offer3 and offer4 almost nobody responded."
   ]
  },
  {
   "cell_type": "markdown",
   "metadata": {},
   "source": [
    "2.1.2 Response rate by Education"
   ]
  },
  {
   "cell_type": "code",
   "execution_count": 183,
   "metadata": {},
   "outputs": [
    {
     "data": {
      "image/png": "[encoded data removed]",
      "text/plain": [
       "<Figure size 576x288 with 1 Axes>"
      ]
     },
     "metadata": {},
     "output_type": "display_data"
    }
   ],
   "source": [
    "plt.figure(figsize=(8,4))\n",
    "ax = sns.countplot('Response',hue = 'Education' ,data = data)\n",
    "plt.ylabel('Total number of Response')\n",
    "annot_plot(ax, 0.08,1)\n",
    "plt.show()"
   ]
  },
  {
   "cell_type": "raw",
   "metadata": {},
   "source": [
    "Customers with Doctor and master degree are very less who responded to marketing calls, may be they are not intersted or busy. or we can say young people are most likely to respond to marketing calls."
   ]
  },
  {
   "cell_type": "markdown",
   "metadata": {},
   "source": [
    "2.1.3 Response rate by Sales Channel"
   ]
  },
  {
   "cell_type": "code",
   "execution_count": 184,
   "metadata": {},
   "outputs": [
    {
     "data": {
      "image/png": "[encoded data removed]",
      "text/plain": [
       "<Figure size 576x288 with 1 Axes>"
      ]
     },
     "metadata": {},
     "output_type": "display_data"
    }
   ],
   "source": [
    "plt.figure(figsize=(8,4))\n",
    "ax = sns.countplot('Response',hue = 'Sales.Channel' ,data = data)\n",
    "plt.ylabel('Total number of Response')\n",
    "annot_plot(ax, 0.08,1)\n",
    "plt.show()"
   ]
  },
  {
   "cell_type": "markdown",
   "metadata": {},
   "source": [
    "2.1.4 Response rate by Total Claim Amount"
   ]
  },
  {
   "cell_type": "code",
   "execution_count": 185,
   "metadata": {},
   "outputs": [
    {
     "data": {
      "image/png": "[encoded data removed]",
      "text/plain": [
       "<Figure size 864x432 with 1 Axes>"
      ]
     },
     "metadata": {},
     "output_type": "display_data"
    }
   ],
   "source": [
    "plt.figure(figsize=(12,6))\n",
    "sns.boxplot(y = 'Total.Claim.Amount' , x = 'Response', data = data)\n",
    "plt.ylabel('Total number of Response')\n",
    "plt.show()"
   ]
  },
  {
   "cell_type": "markdown",
   "metadata": {},
   "source": [
    "2.1.5 Response rate by Income Distributions"
   ]
  },
  {
   "cell_type": "code",
   "execution_count": 186,
   "metadata": {},
   "outputs": [
    {
     "data": {
      "image/png": "[encoded data removed]",
      "text/plain": [
       "<Figure size 864x432 with 1 Axes>"
      ]
     },
     "metadata": {},
     "output_type": "display_data"
    }
   ],
   "source": [
    "plt.figure(figsize=(12,6))\n",
    "sns.boxplot(y = 'Income' , x = 'Response', data = data)\n",
    "plt.show()"
   ]
  },
  {
   "cell_type": "markdown",
   "metadata": {},
   "source": [
    "2.1.6 Response rate by EmploymentStatus"
   ]
  },
  {
   "cell_type": "code",
   "execution_count": 187,
   "metadata": {},
   "outputs": [
    {
     "data": {
      "image/png": "[encoded data removed]",
      "text/plain": [
       "<Figure size 720x432 with 1 Axes>"
      ]
     },
     "metadata": {},
     "output_type": "display_data"
    }
   ],
   "source": [
    "plt.figure(figsize=(10,6))\n",
    "ax = sns.countplot('Response',hue = 'EmploymentStatus' ,data = data)\n",
    "plt.ylabel('Total number of Response')\n",
    "annot_plot(ax, 0.08,1)\n",
    "plt.show()"
   ]
  },
  {
   "cell_type": "markdown",
   "metadata": {},
   "source": [
    "2.1.7 Response rate by Vehicle Class:"
   ]
  },
  {
   "cell_type": "code",
   "execution_count": 189,
   "metadata": {},
   "outputs": [
    {
     "data": {
      "image/png": "[encoded data removed]",
      "text/plain": [
       "<Figure size 720x432 with 1 Axes>"
      ]
     },
     "metadata": {},
     "output_type": "display_data"
    }
   ],
   "source": [
    "plt.figure(figsize=(10,6))\n",
    "ax = sns.countplot('Response',hue = 'Vehicle.Class' ,data = data)\n",
    "plt.ylabel('Total number of Response')\n",
    "annot_plot(ax, 0.08,1)\n",
    "plt.show()"
   ]
  },
  {
   "cell_type": "raw",
   "metadata": {},
   "source": [
    "Response rate for 'Four door car' is significantly high as compared to the other classes of vehicle"
   ]
  },
  {
   "cell_type": "markdown",
   "metadata": {},
   "source": [
    "2.1.8 Response rate by Policy:"
   ]
  },
  {
   "cell_type": "code",
   "execution_count": 190,
   "metadata": {},
   "outputs": [
    {
     "data": {
      "image/png": "[encoded data removed]",
      "text/plain": [
       "<Figure size 1080x432 with 1 Axes>"
      ]
     },
     "metadata": {},
     "output_type": "display_data"
    }
   ],
   "source": [
    "plt.figure(figsize=(15,6))\n",
    "ax = sns.countplot('Response',hue = 'Policy' ,data = data)\n",
    "plt.ylabel('Total number of Response')\n",
    "annot_plot(ax, 0.08,1)\n",
    "plt.show()"
   ]
  },
  {
   "cell_type": "code",
   "execution_count": null,
   "metadata": {},
   "outputs": [],
   "source": []
  },
  {
   "cell_type": "markdown",
   "metadata": {},
   "source": [
    "3. Regression Analysis with Continuous Variables Only"
   ]
  },
  {
   "cell_type": "code",
   "execution_count": 191,
   "metadata": {},
   "outputs": [],
   "source": [
    "import statsmodels.api as sm"
   ]
  },
  {
   "cell_type": "code",
   "execution_count": 193,
   "metadata": {},
   "outputs": [
    {
     "data": {
      "text/plain": [
       "clv                              7602\n",
       "Response                            2\n",
       "Income                           5379\n",
       "Monthly.Premium.Auto              188\n",
       "Months.Since.Last.Claim            36\n",
       "Months.Since.Policy.Inception     100\n",
       "Number.of.Open.Complaints           6\n",
       "Number.of.Policies                  9\n",
       "Total.Claim.Amount               4820\n",
       "dtype: int64"
      ]
     },
     "execution_count": 193,
     "metadata": {},
     "output_type": "execute_result"
    }
   ],
   "source": [
    "continous_var_df = data.select_dtypes(include=['int64','float'])\n",
    "continous_var_df.nunique()"
   ]
  },
  {
   "cell_type": "code",
   "execution_count": 194,
   "metadata": {},
   "outputs": [
    {
     "data": {
      "text/plain": [
       "Index(['clv', 'Response', 'Income', 'Monthly.Premium.Auto',\n",
       "       'Months.Since.Last.Claim', 'Months.Since.Policy.Inception',\n",
       "       'Number.of.Open.Complaints', 'Number.of.Policies',\n",
       "       'Total.Claim.Amount'],\n",
       "      dtype='object')"
      ]
     },
     "execution_count": 194,
     "metadata": {},
     "output_type": "execute_result"
    }
   ],
   "source": [
    "continous_var_df.columns"
   ]
  },
  {
   "cell_type": "code",
   "execution_count": 195,
   "metadata": {},
   "outputs": [
    {
     "name": "stdout",
     "output_type": "stream",
     "text": [
      "Optimization terminated successfully.\n",
      "         Current function value: 0.420740\n",
      "         Iterations 6\n"
     ]
    },
    {
     "data": {
      "text/html": [
       "<table class=\"simpletable\">\n",
       "<caption>Logit Regression Results</caption>\n",
       "<tr>\n",
       "  <th>Dep. Variable:</th>       <td>Response</td>     <th>  No. Observations:  </th>  <td>  8630</td> \n",
       "</tr>\n",
       "<tr>\n",
       "  <th>Model:</th>                 <td>Logit</td>      <th>  Df Residuals:      </th>  <td>  8622</td> \n",
       "</tr>\n",
       "<tr>\n",
       "  <th>Method:</th>                 <td>MLE</td>       <th>  Df Model:          </th>  <td>     7</td> \n",
       "</tr>\n",
       "<tr>\n",
       "  <th>Date:</th>            <td>Wed, 02 Feb 2022</td> <th>  Pseudo R-squ.:     </th> <td>-0.02739</td>\n",
       "</tr>\n",
       "<tr>\n",
       "  <th>Time:</th>                <td>16:30:31</td>     <th>  Log-Likelihood:    </th> <td> -3631.0</td>\n",
       "</tr>\n",
       "<tr>\n",
       "  <th>converged:</th>             <td>True</td>       <th>  LL-Null:           </th> <td> -3534.2</td>\n",
       "</tr>\n",
       "<tr>\n",
       "  <th>Covariance Type:</th>     <td>nonrobust</td>    <th>  LLR p-value:       </th>  <td> 1.000</td> \n",
       "</tr>\n",
       "</table>\n",
       "<table class=\"simpletable\">\n",
       "<tr>\n",
       "                <td></td>                   <th>coef</th>     <th>std err</th>      <th>z</th>      <th>P>|z|</th>  <th>[0.025</th>    <th>0.975]</th>  \n",
       "</tr>\n",
       "<tr>\n",
       "  <th>clv</th>                           <td>-2.412e-05</td> <td>  8.8e-06</td> <td>   -2.741</td> <td> 0.006</td> <td>-4.14e-05</td> <td>-6.87e-06</td>\n",
       "</tr>\n",
       "<tr>\n",
       "  <th>Income</th>                        <td>-2.366e-06</td> <td> 1.06e-06</td> <td>   -2.236</td> <td> 0.025</td> <td>-4.44e-06</td> <td>-2.92e-07</td>\n",
       "</tr>\n",
       "<tr>\n",
       "  <th>Monthly.Premium.Auto</th>          <td>   -0.0073</td> <td>    0.001</td> <td>   -5.657</td> <td> 0.000</td> <td>   -0.010</td> <td>   -0.005</td>\n",
       "</tr>\n",
       "<tr>\n",
       "  <th>Months.Since.Last.Claim</th>       <td>   -0.0226</td> <td>    0.003</td> <td>   -7.812</td> <td> 0.000</td> <td>   -0.028</td> <td>   -0.017</td>\n",
       "</tr>\n",
       "<tr>\n",
       "  <th>Months.Since.Policy.Inception</th> <td>   -0.0061</td> <td>    0.001</td> <td>   -6.094</td> <td> 0.000</td> <td>   -0.008</td> <td>   -0.004</td>\n",
       "</tr>\n",
       "<tr>\n",
       "  <th>Number.of.Open.Complaints</th>     <td>   -0.0805</td> <td>    0.035</td> <td>   -2.320</td> <td> 0.020</td> <td>   -0.149</td> <td>   -0.012</td>\n",
       "</tr>\n",
       "<tr>\n",
       "  <th>Number.of.Policies</th>            <td>   -0.0725</td> <td>    0.013</td> <td>   -5.541</td> <td> 0.000</td> <td>   -0.098</td> <td>   -0.047</td>\n",
       "</tr>\n",
       "<tr>\n",
       "  <th>Total.Claim.Amount</th>            <td>    0.0001</td> <td>    0.000</td> <td>    0.673</td> <td> 0.501</td> <td>   -0.000</td> <td>    0.000</td>\n",
       "</tr>\n",
       "</table>"
      ],
      "text/plain": [
       "<class 'statsmodels.iolib.summary.Summary'>\n",
       "\"\"\"\n",
       "                           Logit Regression Results                           \n",
       "==============================================================================\n",
       "Dep. Variable:               Response   No. Observations:                 8630\n",
       "Model:                          Logit   Df Residuals:                     8622\n",
       "Method:                           MLE   Df Model:                            7\n",
       "Date:                Wed, 02 Feb 2022   Pseudo R-squ.:                -0.02739\n",
       "Time:                        16:30:31   Log-Likelihood:                -3631.0\n",
       "converged:                       True   LL-Null:                       -3534.2\n",
       "Covariance Type:            nonrobust   LLR p-value:                     1.000\n",
       "=================================================================================================\n",
       "                                    coef    std err          z      P>|z|      [0.025      0.975]\n",
       "-------------------------------------------------------------------------------------------------\n",
       "clv                           -2.412e-05    8.8e-06     -2.741      0.006   -4.14e-05   -6.87e-06\n",
       "Income                        -2.366e-06   1.06e-06     -2.236      0.025   -4.44e-06   -2.92e-07\n",
       "Monthly.Premium.Auto             -0.0073      0.001     -5.657      0.000      -0.010      -0.005\n",
       "Months.Since.Last.Claim          -0.0226      0.003     -7.812      0.000      -0.028      -0.017\n",
       "Months.Since.Policy.Inception    -0.0061      0.001     -6.094      0.000      -0.008      -0.004\n",
       "Number.of.Open.Complaints        -0.0805      0.035     -2.320      0.020      -0.149      -0.012\n",
       "Number.of.Policies               -0.0725      0.013     -5.541      0.000      -0.098      -0.047\n",
       "Total.Claim.Amount                0.0001      0.000      0.673      0.501      -0.000       0.000\n",
       "=================================================================================================\n",
       "\"\"\""
      ]
     },
     "execution_count": 195,
     "metadata": {},
     "output_type": "execute_result"
    }
   ],
   "source": [
    "continous_var_reg = sm.Logit(continous_var_df['Response'], continous_var_df.drop('Response', axis = 1))\n",
    "continous_var_reg.fit().summary()"
   ]
  },
  {
   "cell_type": "markdown",
   "metadata": {},
   "source": [
    "A low P value suggests that your sample provides enough evidence that you can reject the null hypothesis for the entire population."
   ]
  },
  {
   "cell_type": "code",
   "execution_count": 196,
   "metadata": {},
   "outputs": [
    {
     "data": {
      "image/png": "[encoded data removed]",
      "text/plain": [
       "<Figure size 720x432 with 2 Axes>"
      ]
     },
     "metadata": {},
     "output_type": "display_data"
    }
   ],
   "source": [
    "plt.figure(figsize=(10,6))\n",
    "sns.heatmap(continous_var_df.corr(), annot = True)\n",
    "plt.show()"
   ]
  },
  {
   "cell_type": "markdown",
   "metadata": {},
   "source": [
    "4.Regression Analysis with Categorical Variables"
   ]
  },
  {
   "cell_type": "code",
   "execution_count": 197,
   "metadata": {},
   "outputs": [],
   "source": [
    "categorical_df = data.select_dtypes(include='object')\n"
   ]
  },
  {
   "cell_type": "code",
   "execution_count": 198,
   "metadata": {},
   "outputs": [
    {
     "data": {
      "text/plain": [
       "Coverage            3\n",
       "Education           5\n",
       "EmploymentStatus    5\n",
       "Gender              2\n",
       "Location.Code       3\n",
       "Marital.Status      3\n",
       "Policy.Type         3\n",
       "Policy              9\n",
       "Renew.Offer.Type    4\n",
       "Sales.Channel       4\n",
       "Vehicle.Class       6\n",
       "Vehicle.Size        3\n",
       "dtype: int64"
      ]
     },
     "execution_count": 198,
     "metadata": {},
     "output_type": "execute_result"
    }
   ],
   "source": [
    "categorical_df.nunique()"
   ]
  },
  {
   "cell_type": "raw",
   "metadata": {},
   "source": [
    "Conversion of Categorical data"
   ]
  },
  {
   "cell_type": "code",
   "execution_count": 199,
   "metadata": {},
   "outputs": [
    {
     "data": {
      "text/plain": [
       "Index(['Coverage', 'Education', 'EmploymentStatus', 'Gender', 'Location.Code',\n",
       "       'Marital.Status', 'Policy.Type', 'Policy', 'Renew.Offer.Type',\n",
       "       'Sales.Channel', 'Vehicle.Class', 'Vehicle.Size'],\n",
       "      dtype='object')"
      ]
     },
     "execution_count": 199,
     "metadata": {},
     "output_type": "execute_result"
    }
   ],
   "source": [
    "categorical_df.columns"
   ]
  },
  {
   "cell_type": "code",
   "execution_count": 200,
   "metadata": {},
   "outputs": [],
   "source": [
    "cols=[ 'Coverage', 'Education', 'EmploymentStatus', 'Gender',\n",
    "       'Location.Code', 'Marital.Status', 'Policy.Type', 'Policy',\n",
    "       'Renew.Offer.Type', 'Sales.Channel', 'Vehicle.Class', 'Vehicle.Size']"
   ]
  },
  {
   "cell_type": "code",
   "execution_count": 201,
   "metadata": {},
   "outputs": [],
   "source": [
    "from sklearn.preprocessing import LabelEncoder\n",
    "lb = LabelEncoder()\n",
    "for col in categorical_df[cols]:\n",
    "    categorical_df[col] = lb.fit_transform(categorical_df[col])"
   ]
  },
  {
   "cell_type": "code",
   "execution_count": 202,
   "metadata": {},
   "outputs": [
    {
     "data": {
      "text/html": [
       "<div>\n",
       "<style scoped>\n",
       "    .dataframe tbody tr th:only-of-type {\n",
       "        vertical-align: middle;\n",
       "    }\n",
       "\n",
       "    .dataframe tbody tr th {\n",
       "        vertical-align: top;\n",
       "    }\n",
       "\n",
       "    .dataframe thead th {\n",
       "        text-align: right;\n",
       "    }\n",
       "</style>\n",
       "<table border=\"1\" class=\"dataframe\">\n",
       "  <thead>\n",
       "    <tr style=\"text-align: right;\">\n",
       "      <th></th>\n",
       "      <th>Coverage</th>\n",
       "      <th>Education</th>\n",
       "      <th>EmploymentStatus</th>\n",
       "      <th>Gender</th>\n",
       "      <th>Location.Code</th>\n",
       "      <th>Marital.Status</th>\n",
       "      <th>Policy.Type</th>\n",
       "      <th>Policy</th>\n",
       "      <th>Renew.Offer.Type</th>\n",
       "      <th>Sales.Channel</th>\n",
       "      <th>Vehicle.Class</th>\n",
       "      <th>Vehicle.Size</th>\n",
       "    </tr>\n",
       "  </thead>\n",
       "  <tbody>\n",
       "    <tr>\n",
       "      <th>0</th>\n",
       "      <td>0</td>\n",
       "      <td>0</td>\n",
       "      <td>1</td>\n",
       "      <td>0</td>\n",
       "      <td>1</td>\n",
       "      <td>1</td>\n",
       "      <td>0</td>\n",
       "      <td>2</td>\n",
       "      <td>0</td>\n",
       "      <td>0</td>\n",
       "      <td>5</td>\n",
       "      <td>1</td>\n",
       "    </tr>\n",
       "    <tr>\n",
       "      <th>1</th>\n",
       "      <td>1</td>\n",
       "      <td>0</td>\n",
       "      <td>4</td>\n",
       "      <td>0</td>\n",
       "      <td>1</td>\n",
       "      <td>2</td>\n",
       "      <td>1</td>\n",
       "      <td>5</td>\n",
       "      <td>2</td>\n",
       "      <td>0</td>\n",
       "      <td>0</td>\n",
       "      <td>1</td>\n",
       "    </tr>\n",
       "    <tr>\n",
       "      <th>2</th>\n",
       "      <td>2</td>\n",
       "      <td>0</td>\n",
       "      <td>1</td>\n",
       "      <td>0</td>\n",
       "      <td>1</td>\n",
       "      <td>1</td>\n",
       "      <td>1</td>\n",
       "      <td>5</td>\n",
       "      <td>0</td>\n",
       "      <td>0</td>\n",
       "      <td>5</td>\n",
       "      <td>1</td>\n",
       "    </tr>\n",
       "    <tr>\n",
       "      <th>3</th>\n",
       "      <td>0</td>\n",
       "      <td>0</td>\n",
       "      <td>4</td>\n",
       "      <td>1</td>\n",
       "      <td>1</td>\n",
       "      <td>1</td>\n",
       "      <td>0</td>\n",
       "      <td>1</td>\n",
       "      <td>0</td>\n",
       "      <td>2</td>\n",
       "      <td>3</td>\n",
       "      <td>1</td>\n",
       "    </tr>\n",
       "    <tr>\n",
       "      <th>4</th>\n",
       "      <td>0</td>\n",
       "      <td>0</td>\n",
       "      <td>1</td>\n",
       "      <td>1</td>\n",
       "      <td>0</td>\n",
       "      <td>2</td>\n",
       "      <td>1</td>\n",
       "      <td>3</td>\n",
       "      <td>0</td>\n",
       "      <td>0</td>\n",
       "      <td>0</td>\n",
       "      <td>1</td>\n",
       "    </tr>\n",
       "  </tbody>\n",
       "</table>\n",
       "</div>"
      ],
      "text/plain": [
       "   Coverage  Education  EmploymentStatus  Gender  Location.Code  \\\n",
       "0         0          0                 1       0              1   \n",
       "1         1          0                 4       0              1   \n",
       "2         2          0                 1       0              1   \n",
       "3         0          0                 4       1              1   \n",
       "4         0          0                 1       1              0   \n",
       "\n",
       "   Marital.Status  Policy.Type  Policy  Renew.Offer.Type  Sales.Channel  \\\n",
       "0               1            0       2                 0              0   \n",
       "1               2            1       5                 2              0   \n",
       "2               1            1       5                 0              0   \n",
       "3               1            0       1                 0              2   \n",
       "4               2            1       3                 0              0   \n",
       "\n",
       "   Vehicle.Class  Vehicle.Size  \n",
       "0              5             1  \n",
       "1              0             1  \n",
       "2              5             1  \n",
       "3              3             1  \n",
       "4              0             1  "
      ]
     },
     "execution_count": 202,
     "metadata": {},
     "output_type": "execute_result"
    }
   ],
   "source": [
    "categorical_df.head()"
   ]
  },
  {
   "cell_type": "code",
   "execution_count": 204,
   "metadata": {},
   "outputs": [
    {
     "name": "stdout",
     "output_type": "stream",
     "text": [
      "Optimization terminated successfully.\n",
      "         Current function value: 0.386356\n",
      "         Iterations 7\n"
     ]
    },
    {
     "data": {
      "text/html": [
       "<table class=\"simpletable\">\n",
       "<caption>Logit Regression Results</caption>\n",
       "<tr>\n",
       "  <th>Dep. Variable:</th>       <td>Response</td>     <th>  No. Observations:  </th>  <td>  8630</td>  \n",
       "</tr>\n",
       "<tr>\n",
       "  <th>Model:</th>                 <td>Logit</td>      <th>  Df Residuals:      </th>  <td>  8618</td>  \n",
       "</tr>\n",
       "<tr>\n",
       "  <th>Method:</th>                 <td>MLE</td>       <th>  Df Model:          </th>  <td>    11</td>  \n",
       "</tr>\n",
       "<tr>\n",
       "  <th>Date:</th>            <td>Wed, 02 Feb 2022</td> <th>  Pseudo R-squ.:     </th>  <td>0.05657</td> \n",
       "</tr>\n",
       "<tr>\n",
       "  <th>Time:</th>                <td>16:30:53</td>     <th>  Log-Likelihood:    </th> <td> -3334.3</td> \n",
       "</tr>\n",
       "<tr>\n",
       "  <th>converged:</th>             <td>True</td>       <th>  LL-Null:           </th> <td> -3534.2</td> \n",
       "</tr>\n",
       "<tr>\n",
       "  <th>Covariance Type:</th>     <td>nonrobust</td>    <th>  LLR p-value:       </th> <td>6.565e-79</td>\n",
       "</tr>\n",
       "</table>\n",
       "<table class=\"simpletable\">\n",
       "<tr>\n",
       "          <td></td>            <th>coef</th>     <th>std err</th>      <th>z</th>      <th>P>|z|</th>  <th>[0.025</th>    <th>0.975]</th>  \n",
       "</tr>\n",
       "<tr>\n",
       "  <th>Coverage</th>         <td>   -0.0421</td> <td>    0.047</td> <td>   -0.888</td> <td> 0.374</td> <td>   -0.135</td> <td>    0.051</td>\n",
       "</tr>\n",
       "<tr>\n",
       "  <th>Education</th>        <td>    0.0270</td> <td>    0.022</td> <td>    1.225</td> <td> 0.220</td> <td>   -0.016</td> <td>    0.070</td>\n",
       "</tr>\n",
       "<tr>\n",
       "  <th>EmploymentStatus</th> <td>   -0.0558</td> <td>    0.024</td> <td>   -2.302</td> <td> 0.021</td> <td>   -0.103</td> <td>   -0.008</td>\n",
       "</tr>\n",
       "<tr>\n",
       "  <th>Gender</th>           <td>    0.0468</td> <td>    0.062</td> <td>    0.755</td> <td> 0.450</td> <td>   -0.075</td> <td>    0.168</td>\n",
       "</tr>\n",
       "<tr>\n",
       "  <th>Location.Code</th>    <td>   -0.0614</td> <td>    0.048</td> <td>   -1.274</td> <td> 0.203</td> <td>   -0.156</td> <td>    0.033</td>\n",
       "</tr>\n",
       "<tr>\n",
       "  <th>Marital.Status</th>   <td>   -0.4583</td> <td>    0.049</td> <td>   -9.404</td> <td> 0.000</td> <td>   -0.554</td> <td>   -0.363</td>\n",
       "</tr>\n",
       "<tr>\n",
       "  <th>Policy.Type</th>      <td>    0.2578</td> <td>    0.136</td> <td>    1.901</td> <td> 0.057</td> <td>   -0.008</td> <td>    0.524</td>\n",
       "</tr>\n",
       "<tr>\n",
       "  <th>Policy</th>           <td>   -0.1049</td> <td>    0.038</td> <td>   -2.792</td> <td> 0.005</td> <td>   -0.179</td> <td>   -0.031</td>\n",
       "</tr>\n",
       "<tr>\n",
       "  <th>Renew.Offer.Type</th> <td>   -0.5678</td> <td>    0.038</td> <td>  -14.792</td> <td> 0.000</td> <td>   -0.643</td> <td>   -0.493</td>\n",
       "</tr>\n",
       "<tr>\n",
       "  <th>Sales.Channel</th>    <td>   -0.2289</td> <td>    0.031</td> <td>   -7.359</td> <td> 0.000</td> <td>   -0.290</td> <td>   -0.168</td>\n",
       "</tr>\n",
       "<tr>\n",
       "  <th>Vehicle.Class</th>    <td>    0.0316</td> <td>    0.015</td> <td>    2.139</td> <td> 0.032</td> <td>    0.003</td> <td>    0.061</td>\n",
       "</tr>\n",
       "<tr>\n",
       "  <th>Vehicle.Size</th>     <td>   -0.3589</td> <td>    0.054</td> <td>   -6.702</td> <td> 0.000</td> <td>   -0.464</td> <td>   -0.254</td>\n",
       "</tr>\n",
       "</table>"
      ],
      "text/plain": [
       "<class 'statsmodels.iolib.summary.Summary'>\n",
       "\"\"\"\n",
       "                           Logit Regression Results                           \n",
       "==============================================================================\n",
       "Dep. Variable:               Response   No. Observations:                 8630\n",
       "Model:                          Logit   Df Residuals:                     8618\n",
       "Method:                           MLE   Df Model:                           11\n",
       "Date:                Wed, 02 Feb 2022   Pseudo R-squ.:                 0.05657\n",
       "Time:                        16:30:53   Log-Likelihood:                -3334.3\n",
       "converged:                       True   LL-Null:                       -3534.2\n",
       "Covariance Type:            nonrobust   LLR p-value:                 6.565e-79\n",
       "====================================================================================\n",
       "                       coef    std err          z      P>|z|      [0.025      0.975]\n",
       "------------------------------------------------------------------------------------\n",
       "Coverage            -0.0421      0.047     -0.888      0.374      -0.135       0.051\n",
       "Education            0.0270      0.022      1.225      0.220      -0.016       0.070\n",
       "EmploymentStatus    -0.0558      0.024     -2.302      0.021      -0.103      -0.008\n",
       "Gender               0.0468      0.062      0.755      0.450      -0.075       0.168\n",
       "Location.Code       -0.0614      0.048     -1.274      0.203      -0.156       0.033\n",
       "Marital.Status      -0.4583      0.049     -9.404      0.000      -0.554      -0.363\n",
       "Policy.Type          0.2578      0.136      1.901      0.057      -0.008       0.524\n",
       "Policy              -0.1049      0.038     -2.792      0.005      -0.179      -0.031\n",
       "Renew.Offer.Type    -0.5678      0.038    -14.792      0.000      -0.643      -0.493\n",
       "Sales.Channel       -0.2289      0.031     -7.359      0.000      -0.290      -0.168\n",
       "Vehicle.Class        0.0316      0.015      2.139      0.032       0.003       0.061\n",
       "Vehicle.Size        -0.3589      0.054     -6.702      0.000      -0.464      -0.254\n",
       "====================================================================================\n",
       "\"\"\""
      ]
     },
     "execution_count": 204,
     "metadata": {},
     "output_type": "execute_result"
    }
   ],
   "source": [
    "categorical_train = sm.Logit(continous_var_df.Response, categorical_df)\n",
    "categorical_train.fit().summary()"
   ]
  },
  {
   "cell_type": "raw",
   "metadata": {},
   "source": [
    "By looking at p-value,'Marital.Status','Renew.Offer.type','Sales.channel','Vehicle.size','policy' variables are significant at 0.05 significance level, and all of them have negative relationship with the output variable, Response."
   ]
  },
  {
   "cell_type": "markdown",
   "metadata": {},
   "source": [
    "5. Regression Analysis with both Continous and Categorical Variables."
   ]
  },
  {
   "cell_type": "code",
   "execution_count": 205,
   "metadata": {},
   "outputs": [],
   "source": [
    "continous_var_df.reset_index(drop = True, inplace=True)\n",
    "categorical_df.reset_index(drop = True, inplace=True)"
   ]
  },
  {
   "cell_type": "code",
   "execution_count": 206,
   "metadata": {},
   "outputs": [],
   "source": [
    "all_data_df = pd.concat([continous_var_df,categorical_df], axis = 1)"
   ]
  },
  {
   "cell_type": "code",
   "execution_count": 207,
   "metadata": {},
   "outputs": [
    {
     "data": {
      "text/html": [
       "<div>\n",
       "<style scoped>\n",
       "    .dataframe tbody tr th:only-of-type {\n",
       "        vertical-align: middle;\n",
       "    }\n",
       "\n",
       "    .dataframe tbody tr th {\n",
       "        vertical-align: top;\n",
       "    }\n",
       "\n",
       "    .dataframe thead th {\n",
       "        text-align: right;\n",
       "    }\n",
       "</style>\n",
       "<table border=\"1\" class=\"dataframe\">\n",
       "  <thead>\n",
       "    <tr style=\"text-align: right;\">\n",
       "      <th></th>\n",
       "      <th>clv</th>\n",
       "      <th>Response</th>\n",
       "      <th>Income</th>\n",
       "      <th>Monthly.Premium.Auto</th>\n",
       "      <th>Months.Since.Last.Claim</th>\n",
       "      <th>Months.Since.Policy.Inception</th>\n",
       "      <th>Number.of.Open.Complaints</th>\n",
       "      <th>Number.of.Policies</th>\n",
       "      <th>Total.Claim.Amount</th>\n",
       "      <th>Coverage</th>\n",
       "      <th>...</th>\n",
       "      <th>EmploymentStatus</th>\n",
       "      <th>Gender</th>\n",
       "      <th>Location.Code</th>\n",
       "      <th>Marital.Status</th>\n",
       "      <th>Policy.Type</th>\n",
       "      <th>Policy</th>\n",
       "      <th>Renew.Offer.Type</th>\n",
       "      <th>Sales.Channel</th>\n",
       "      <th>Vehicle.Class</th>\n",
       "      <th>Vehicle.Size</th>\n",
       "    </tr>\n",
       "  </thead>\n",
       "  <tbody>\n",
       "    <tr>\n",
       "      <th>0</th>\n",
       "      <td>2763.519279</td>\n",
       "      <td>0</td>\n",
       "      <td>56274</td>\n",
       "      <td>69</td>\n",
       "      <td>32</td>\n",
       "      <td>5</td>\n",
       "      <td>0</td>\n",
       "      <td>1</td>\n",
       "      <td>384.811147</td>\n",
       "      <td>0</td>\n",
       "      <td>...</td>\n",
       "      <td>1</td>\n",
       "      <td>0</td>\n",
       "      <td>1</td>\n",
       "      <td>1</td>\n",
       "      <td>0</td>\n",
       "      <td>2</td>\n",
       "      <td>0</td>\n",
       "      <td>0</td>\n",
       "      <td>5</td>\n",
       "      <td>1</td>\n",
       "    </tr>\n",
       "    <tr>\n",
       "      <th>1</th>\n",
       "      <td>6979.535903</td>\n",
       "      <td>0</td>\n",
       "      <td>0</td>\n",
       "      <td>94</td>\n",
       "      <td>13</td>\n",
       "      <td>42</td>\n",
       "      <td>0</td>\n",
       "      <td>8</td>\n",
       "      <td>1131.464935</td>\n",
       "      <td>1</td>\n",
       "      <td>...</td>\n",
       "      <td>4</td>\n",
       "      <td>0</td>\n",
       "      <td>1</td>\n",
       "      <td>2</td>\n",
       "      <td>1</td>\n",
       "      <td>5</td>\n",
       "      <td>2</td>\n",
       "      <td>0</td>\n",
       "      <td>0</td>\n",
       "      <td>1</td>\n",
       "    </tr>\n",
       "    <tr>\n",
       "      <th>2</th>\n",
       "      <td>12887.431650</td>\n",
       "      <td>0</td>\n",
       "      <td>48767</td>\n",
       "      <td>108</td>\n",
       "      <td>18</td>\n",
       "      <td>38</td>\n",
       "      <td>0</td>\n",
       "      <td>2</td>\n",
       "      <td>566.472247</td>\n",
       "      <td>2</td>\n",
       "      <td>...</td>\n",
       "      <td>1</td>\n",
       "      <td>0</td>\n",
       "      <td>1</td>\n",
       "      <td>1</td>\n",
       "      <td>1</td>\n",
       "      <td>5</td>\n",
       "      <td>0</td>\n",
       "      <td>0</td>\n",
       "      <td>5</td>\n",
       "      <td>1</td>\n",
       "    </tr>\n",
       "    <tr>\n",
       "      <th>3</th>\n",
       "      <td>7645.861827</td>\n",
       "      <td>0</td>\n",
       "      <td>0</td>\n",
       "      <td>106</td>\n",
       "      <td>18</td>\n",
       "      <td>65</td>\n",
       "      <td>0</td>\n",
       "      <td>7</td>\n",
       "      <td>529.881344</td>\n",
       "      <td>0</td>\n",
       "      <td>...</td>\n",
       "      <td>4</td>\n",
       "      <td>1</td>\n",
       "      <td>1</td>\n",
       "      <td>1</td>\n",
       "      <td>0</td>\n",
       "      <td>1</td>\n",
       "      <td>0</td>\n",
       "      <td>2</td>\n",
       "      <td>3</td>\n",
       "      <td>1</td>\n",
       "    </tr>\n",
       "    <tr>\n",
       "      <th>4</th>\n",
       "      <td>2813.692575</td>\n",
       "      <td>0</td>\n",
       "      <td>43836</td>\n",
       "      <td>73</td>\n",
       "      <td>12</td>\n",
       "      <td>44</td>\n",
       "      <td>0</td>\n",
       "      <td>1</td>\n",
       "      <td>138.130879</td>\n",
       "      <td>0</td>\n",
       "      <td>...</td>\n",
       "      <td>1</td>\n",
       "      <td>1</td>\n",
       "      <td>0</td>\n",
       "      <td>2</td>\n",
       "      <td>1</td>\n",
       "      <td>3</td>\n",
       "      <td>0</td>\n",
       "      <td>0</td>\n",
       "      <td>0</td>\n",
       "      <td>1</td>\n",
       "    </tr>\n",
       "  </tbody>\n",
       "</table>\n",
       "<p>5 rows × 21 columns</p>\n",
       "</div>"
      ],
      "text/plain": [
       "            clv  Response  Income  Monthly.Premium.Auto  \\\n",
       "0   2763.519279         0   56274                    69   \n",
       "1   6979.535903         0       0                    94   \n",
       "2  12887.431650         0   48767                   108   \n",
       "3   7645.861827         0       0                   106   \n",
       "4   2813.692575         0   43836                    73   \n",
       "\n",
       "   Months.Since.Last.Claim  Months.Since.Policy.Inception  \\\n",
       "0                       32                              5   \n",
       "1                       13                             42   \n",
       "2                       18                             38   \n",
       "3                       18                             65   \n",
       "4                       12                             44   \n",
       "\n",
       "   Number.of.Open.Complaints  Number.of.Policies  Total.Claim.Amount  \\\n",
       "0                          0                   1          384.811147   \n",
       "1                          0                   8         1131.464935   \n",
       "2                          0                   2          566.472247   \n",
       "3                          0                   7          529.881344   \n",
       "4                          0                   1          138.130879   \n",
       "\n",
       "   Coverage  ...  EmploymentStatus  Gender  Location.Code  Marital.Status  \\\n",
       "0         0  ...                 1       0              1               1   \n",
       "1         1  ...                 4       0              1               2   \n",
       "2         2  ...                 1       0              1               1   \n",
       "3         0  ...                 4       1              1               1   \n",
       "4         0  ...                 1       1              0               2   \n",
       "\n",
       "   Policy.Type  Policy  Renew.Offer.Type  Sales.Channel  Vehicle.Class  \\\n",
       "0            0       2                 0              0              5   \n",
       "1            1       5                 2              0              0   \n",
       "2            1       5                 0              0              5   \n",
       "3            0       1                 0              2              3   \n",
       "4            1       3                 0              0              0   \n",
       "\n",
       "   Vehicle.Size  \n",
       "0             1  \n",
       "1             1  \n",
       "2             1  \n",
       "3             1  \n",
       "4             1  \n",
       "\n",
       "[5 rows x 21 columns]"
      ]
     },
     "execution_count": 207,
     "metadata": {},
     "output_type": "execute_result"
    }
   ],
   "source": [
    "all_data_df.head()"
   ]
  },
  {
   "cell_type": "code",
   "execution_count": 208,
   "metadata": {},
   "outputs": [
    {
     "name": "stdout",
     "output_type": "stream",
     "text": [
      "Optimization terminated successfully.\n",
      "         Current function value: 0.382816\n",
      "         Iterations 7\n"
     ]
    },
    {
     "data": {
      "text/html": [
       "<table class=\"simpletable\">\n",
       "<caption>Logit Regression Results</caption>\n",
       "<tr>\n",
       "  <th>Dep. Variable:</th>       <td>Response</td>     <th>  No. Observations:  </th>  <td>  8630</td>  \n",
       "</tr>\n",
       "<tr>\n",
       "  <th>Model:</th>                 <td>Logit</td>      <th>  Df Residuals:      </th>  <td>  8610</td>  \n",
       "</tr>\n",
       "<tr>\n",
       "  <th>Method:</th>                 <td>MLE</td>       <th>  Df Model:          </th>  <td>    19</td>  \n",
       "</tr>\n",
       "<tr>\n",
       "  <th>Date:</th>            <td>Wed, 02 Feb 2022</td> <th>  Pseudo R-squ.:     </th>  <td>0.06522</td> \n",
       "</tr>\n",
       "<tr>\n",
       "  <th>Time:</th>                <td>16:31:47</td>     <th>  Log-Likelihood:    </th> <td> -3303.7</td> \n",
       "</tr>\n",
       "<tr>\n",
       "  <th>converged:</th>             <td>True</td>       <th>  LL-Null:           </th> <td> -3534.2</td> \n",
       "</tr>\n",
       "<tr>\n",
       "  <th>Covariance Type:</th>     <td>nonrobust</td>    <th>  LLR p-value:       </th> <td>8.411e-86</td>\n",
       "</tr>\n",
       "</table>\n",
       "<table class=\"simpletable\">\n",
       "<tr>\n",
       "                <td></td>                   <th>coef</th>     <th>std err</th>      <th>z</th>      <th>P>|z|</th>  <th>[0.025</th>    <th>0.975]</th>  \n",
       "</tr>\n",
       "<tr>\n",
       "  <th>clv</th>                           <td>-2.994e-05</td> <td> 9.43e-06</td> <td>   -3.177</td> <td> 0.001</td> <td>-4.84e-05</td> <td>-1.15e-05</td>\n",
       "</tr>\n",
       "<tr>\n",
       "  <th>Income</th>                        <td>  4.06e-06</td> <td> 1.42e-06</td> <td>    2.850</td> <td> 0.004</td> <td> 1.27e-06</td> <td> 6.85e-06</td>\n",
       "</tr>\n",
       "<tr>\n",
       "  <th>Monthly.Premium.Auto</th>          <td>   -0.0022</td> <td>    0.001</td> <td>   -1.533</td> <td> 0.125</td> <td>   -0.005</td> <td>    0.001</td>\n",
       "</tr>\n",
       "<tr>\n",
       "  <th>Months.Since.Last.Claim</th>       <td>   -0.0078</td> <td>    0.003</td> <td>   -2.514</td> <td> 0.012</td> <td>   -0.014</td> <td>   -0.002</td>\n",
       "</tr>\n",
       "<tr>\n",
       "  <th>Months.Since.Policy.Inception</th> <td>   -0.0020</td> <td>    0.001</td> <td>   -1.788</td> <td> 0.074</td> <td>   -0.004</td> <td>    0.000</td>\n",
       "</tr>\n",
       "<tr>\n",
       "  <th>Number.of.Open.Complaints</th>     <td>   -0.0527</td> <td>    0.036</td> <td>   -1.479</td> <td> 0.139</td> <td>   -0.122</td> <td>    0.017</td>\n",
       "</tr>\n",
       "<tr>\n",
       "  <th>Number.of.Policies</th>            <td>   -0.0327</td> <td>    0.013</td> <td>   -2.440</td> <td> 0.015</td> <td>   -0.059</td> <td>   -0.006</td>\n",
       "</tr>\n",
       "<tr>\n",
       "  <th>Total.Claim.Amount</th>            <td>    0.0008</td> <td>    0.000</td> <td>    4.502</td> <td> 0.000</td> <td>    0.000</td> <td>    0.001</td>\n",
       "</tr>\n",
       "<tr>\n",
       "  <th>Coverage</th>                      <td>   -0.0224</td> <td>    0.055</td> <td>   -0.408</td> <td> 0.683</td> <td>   -0.130</td> <td>    0.085</td>\n",
       "</tr>\n",
       "<tr>\n",
       "  <th>Education</th>                     <td>    0.0450</td> <td>    0.023</td> <td>    1.987</td> <td> 0.047</td> <td>    0.001</td> <td>    0.089</td>\n",
       "</tr>\n",
       "<tr>\n",
       "  <th>EmploymentStatus</th>              <td>   -0.0243</td> <td>    0.031</td> <td>   -0.774</td> <td> 0.439</td> <td>   -0.086</td> <td>    0.037</td>\n",
       "</tr>\n",
       "<tr>\n",
       "  <th>Gender</th>                        <td>    0.0611</td> <td>    0.063</td> <td>    0.964</td> <td> 0.335</td> <td>   -0.063</td> <td>    0.185</td>\n",
       "</tr>\n",
       "<tr>\n",
       "  <th>Location.Code</th>                 <td>   -0.1084</td> <td>    0.054</td> <td>   -1.993</td> <td> 0.046</td> <td>   -0.215</td> <td>   -0.002</td>\n",
       "</tr>\n",
       "<tr>\n",
       "  <th>Marital.Status</th>                <td>   -0.4592</td> <td>    0.050</td> <td>   -9.177</td> <td> 0.000</td> <td>   -0.557</td> <td>   -0.361</td>\n",
       "</tr>\n",
       "<tr>\n",
       "  <th>Policy.Type</th>                   <td>    0.1926</td> <td>    0.138</td> <td>    1.394</td> <td> 0.163</td> <td>   -0.078</td> <td>    0.463</td>\n",
       "</tr>\n",
       "<tr>\n",
       "  <th>Policy</th>                        <td>   -0.0635</td> <td>    0.040</td> <td>   -1.597</td> <td> 0.110</td> <td>   -0.142</td> <td>    0.014</td>\n",
       "</tr>\n",
       "<tr>\n",
       "  <th>Renew.Offer.Type</th>              <td>   -0.5872</td> <td>    0.040</td> <td>  -14.774</td> <td> 0.000</td> <td>   -0.665</td> <td>   -0.509</td>\n",
       "</tr>\n",
       "<tr>\n",
       "  <th>Sales.Channel</th>                 <td>   -0.2090</td> <td>    0.032</td> <td>   -6.631</td> <td> 0.000</td> <td>   -0.271</td> <td>   -0.147</td>\n",
       "</tr>\n",
       "<tr>\n",
       "  <th>Vehicle.Class</th>                 <td>    0.0390</td> <td>    0.015</td> <td>    2.524</td> <td> 0.012</td> <td>    0.009</td> <td>    0.069</td>\n",
       "</tr>\n",
       "<tr>\n",
       "  <th>Vehicle.Size</th>                  <td>   -0.3053</td> <td>    0.057</td> <td>   -5.403</td> <td> 0.000</td> <td>   -0.416</td> <td>   -0.195</td>\n",
       "</tr>\n",
       "</table>"
      ],
      "text/plain": [
       "<class 'statsmodels.iolib.summary.Summary'>\n",
       "\"\"\"\n",
       "                           Logit Regression Results                           \n",
       "==============================================================================\n",
       "Dep. Variable:               Response   No. Observations:                 8630\n",
       "Model:                          Logit   Df Residuals:                     8610\n",
       "Method:                           MLE   Df Model:                           19\n",
       "Date:                Wed, 02 Feb 2022   Pseudo R-squ.:                 0.06522\n",
       "Time:                        16:31:47   Log-Likelihood:                -3303.7\n",
       "converged:                       True   LL-Null:                       -3534.2\n",
       "Covariance Type:            nonrobust   LLR p-value:                 8.411e-86\n",
       "=================================================================================================\n",
       "                                    coef    std err          z      P>|z|      [0.025      0.975]\n",
       "-------------------------------------------------------------------------------------------------\n",
       "clv                           -2.994e-05   9.43e-06     -3.177      0.001   -4.84e-05   -1.15e-05\n",
       "Income                          4.06e-06   1.42e-06      2.850      0.004    1.27e-06    6.85e-06\n",
       "Monthly.Premium.Auto             -0.0022      0.001     -1.533      0.125      -0.005       0.001\n",
       "Months.Since.Last.Claim          -0.0078      0.003     -2.514      0.012      -0.014      -0.002\n",
       "Months.Since.Policy.Inception    -0.0020      0.001     -1.788      0.074      -0.004       0.000\n",
       "Number.of.Open.Complaints        -0.0527      0.036     -1.479      0.139      -0.122       0.017\n",
       "Number.of.Policies               -0.0327      0.013     -2.440      0.015      -0.059      -0.006\n",
       "Total.Claim.Amount                0.0008      0.000      4.502      0.000       0.000       0.001\n",
       "Coverage                         -0.0224      0.055     -0.408      0.683      -0.130       0.085\n",
       "Education                         0.0450      0.023      1.987      0.047       0.001       0.089\n",
       "EmploymentStatus                 -0.0243      0.031     -0.774      0.439      -0.086       0.037\n",
       "Gender                            0.0611      0.063      0.964      0.335      -0.063       0.185\n",
       "Location.Code                    -0.1084      0.054     -1.993      0.046      -0.215      -0.002\n",
       "Marital.Status                   -0.4592      0.050     -9.177      0.000      -0.557      -0.361\n",
       "Policy.Type                       0.1926      0.138      1.394      0.163      -0.078       0.463\n",
       "Policy                           -0.0635      0.040     -1.597      0.110      -0.142       0.014\n",
       "Renew.Offer.Type                 -0.5872      0.040    -14.774      0.000      -0.665      -0.509\n",
       "Sales.Channel                    -0.2090      0.032     -6.631      0.000      -0.271      -0.147\n",
       "Vehicle.Class                     0.0390      0.015      2.524      0.012       0.009       0.069\n",
       "Vehicle.Size                     -0.3053      0.057     -5.403      0.000      -0.416      -0.195\n",
       "=================================================================================================\n",
       "\"\"\""
      ]
     },
     "execution_count": 208,
     "metadata": {},
     "output_type": "execute_result"
    }
   ],
   "source": [
    "total_train = sm.Logit(all_data_df.Response, all_data_df.drop(['Response'], axis = 1))\n",
    "total_train.fit().summary()"
   ]
  },
  {
   "cell_type": "raw",
   "metadata": {},
   "source": [
    "By looking at the p-value of 'Customer lifetime value','Income', 'Monthly Premium Auto','Months Since Last Claim', 'Months Since Policy Inception','Number of Policies','Total claim amount','Marital Status','Renew offer type','Sales Channel','Vehicle size', these input variables seems to have significant relationships with the output(target) variable 'Response'. By looking at the coeff,they are all negatively correlated to the Response variable."
   ]
  },
  {
   "cell_type": "markdown",
   "metadata": {},
   "source": [
    "Conclusion: The higher the Customer Lifetime value is, the less likely that the customer will be response to marketing calls."
   ]
  },
  {
   "cell_type": "markdown",
   "metadata": {},
   "source": [
    "6. Regression Analysis with excluding Non-significant variables"
   ]
  },
  {
   "cell_type": "code",
   "execution_count": 209,
   "metadata": {},
   "outputs": [
    {
     "data": {
      "text/plain": [
       "Index(['clv', 'Response', 'Income', 'Monthly.Premium.Auto',\n",
       "       'Months.Since.Last.Claim', 'Months.Since.Policy.Inception',\n",
       "       'Number.of.Open.Complaints', 'Number.of.Policies', 'Total.Claim.Amount',\n",
       "       'Coverage', 'Education', 'EmploymentStatus', 'Gender', 'Location.Code',\n",
       "       'Marital.Status', 'Policy.Type', 'Policy', 'Renew.Offer.Type',\n",
       "       'Sales.Channel', 'Vehicle.Class', 'Vehicle.Size'],\n",
       "      dtype='object')"
      ]
     },
     "execution_count": 209,
     "metadata": {},
     "output_type": "execute_result"
    }
   ],
   "source": [
    "all_data_df.columns"
   ]
  },
  {
   "cell_type": "code",
   "execution_count": 212,
   "metadata": {},
   "outputs": [
    {
     "name": "stdout",
     "output_type": "stream",
     "text": [
      "Optimization terminated successfully.\n",
      "         Current function value: 0.383902\n",
      "         Iterations 7\n"
     ]
    },
    {
     "data": {
      "text/html": [
       "<table class=\"simpletable\">\n",
       "<caption>Logit Regression Results</caption>\n",
       "<tr>\n",
       "  <th>Dep. Variable:</th>       <td>Response</td>     <th>  No. Observations:  </th>  <td>  8630</td>  \n",
       "</tr>\n",
       "<tr>\n",
       "  <th>Model:</th>                 <td>Logit</td>      <th>  Df Residuals:      </th>  <td>  8618</td>  \n",
       "</tr>\n",
       "<tr>\n",
       "  <th>Method:</th>                 <td>MLE</td>       <th>  Df Model:          </th>  <td>    11</td>  \n",
       "</tr>\n",
       "<tr>\n",
       "  <th>Date:</th>            <td>Wed, 02 Feb 2022</td> <th>  Pseudo R-squ.:     </th>  <td>0.06256</td> \n",
       "</tr>\n",
       "<tr>\n",
       "  <th>Time:</th>                <td>16:36:37</td>     <th>  Log-Likelihood:    </th> <td> -3313.1</td> \n",
       "</tr>\n",
       "<tr>\n",
       "  <th>converged:</th>             <td>True</td>       <th>  LL-Null:           </th> <td> -3534.2</td> \n",
       "</tr>\n",
       "<tr>\n",
       "  <th>Covariance Type:</th>     <td>nonrobust</td>    <th>  LLR p-value:       </th> <td>6.532e-88</td>\n",
       "</tr>\n",
       "</table>\n",
       "<table class=\"simpletable\">\n",
       "<tr>\n",
       "                <td></td>                   <th>coef</th>     <th>std err</th>      <th>z</th>      <th>P>|z|</th>  <th>[0.025</th>    <th>0.975]</th>  \n",
       "</tr>\n",
       "<tr>\n",
       "  <th>clv</th>                           <td>-2.926e-05</td> <td> 9.37e-06</td> <td>   -3.123</td> <td> 0.002</td> <td>-4.76e-05</td> <td>-1.09e-05</td>\n",
       "</tr>\n",
       "<tr>\n",
       "  <th>Income</th>                        <td> 4.276e-06</td> <td> 1.14e-06</td> <td>    3.735</td> <td> 0.000</td> <td> 2.03e-06</td> <td> 6.52e-06</td>\n",
       "</tr>\n",
       "<tr>\n",
       "  <th>Monthly.Premium.Auto</th>          <td>   -0.0019</td> <td>    0.001</td> <td>   -1.440</td> <td> 0.150</td> <td>   -0.004</td> <td>    0.001</td>\n",
       "</tr>\n",
       "<tr>\n",
       "  <th>Months.Since.Last.Claim</th>       <td>   -0.0085</td> <td>    0.003</td> <td>   -2.779</td> <td> 0.005</td> <td>   -0.014</td> <td>   -0.002</td>\n",
       "</tr>\n",
       "<tr>\n",
       "  <th>Months.Since.Policy.Inception</th> <td>   -0.0023</td> <td>    0.001</td> <td>   -2.156</td> <td> 0.031</td> <td>   -0.004</td> <td>   -0.000</td>\n",
       "</tr>\n",
       "<tr>\n",
       "  <th>Number.of.Open.Complaints</th>     <td>   -0.0594</td> <td>    0.035</td> <td>   -1.677</td> <td> 0.094</td> <td>   -0.129</td> <td>    0.010</td>\n",
       "</tr>\n",
       "<tr>\n",
       "  <th>Number.of.Policies</th>            <td>   -0.0343</td> <td>    0.013</td> <td>   -2.587</td> <td> 0.010</td> <td>   -0.060</td> <td>   -0.008</td>\n",
       "</tr>\n",
       "<tr>\n",
       "  <th>Total.Claim.Amount</th>            <td>    0.0007</td> <td>    0.000</td> <td>    4.090</td> <td> 0.000</td> <td>    0.000</td> <td>    0.001</td>\n",
       "</tr>\n",
       "<tr>\n",
       "  <th>Marital.Status</th>                <td>   -0.4709</td> <td>    0.046</td> <td>  -10.131</td> <td> 0.000</td> <td>   -0.562</td> <td>   -0.380</td>\n",
       "</tr>\n",
       "<tr>\n",
       "  <th>Renew.Offer.Type</th>              <td>   -0.5835</td> <td>    0.039</td> <td>  -14.881</td> <td> 0.000</td> <td>   -0.660</td> <td>   -0.507</td>\n",
       "</tr>\n",
       "<tr>\n",
       "  <th>Sales.Channel</th>                 <td>   -0.2127</td> <td>    0.031</td> <td>   -6.801</td> <td> 0.000</td> <td>   -0.274</td> <td>   -0.151</td>\n",
       "</tr>\n",
       "<tr>\n",
       "  <th>Vehicle.Size</th>                  <td>   -0.3221</td> <td>    0.055</td> <td>   -5.850</td> <td> 0.000</td> <td>   -0.430</td> <td>   -0.214</td>\n",
       "</tr>\n",
       "</table>"
      ],
      "text/plain": [
       "<class 'statsmodels.iolib.summary.Summary'>\n",
       "\"\"\"\n",
       "                           Logit Regression Results                           \n",
       "==============================================================================\n",
       "Dep. Variable:               Response   No. Observations:                 8630\n",
       "Model:                          Logit   Df Residuals:                     8618\n",
       "Method:                           MLE   Df Model:                           11\n",
       "Date:                Wed, 02 Feb 2022   Pseudo R-squ.:                 0.06256\n",
       "Time:                        16:36:37   Log-Likelihood:                -3313.1\n",
       "converged:                       True   LL-Null:                       -3534.2\n",
       "Covariance Type:            nonrobust   LLR p-value:                 6.532e-88\n",
       "=================================================================================================\n",
       "                                    coef    std err          z      P>|z|      [0.025      0.975]\n",
       "-------------------------------------------------------------------------------------------------\n",
       "clv                           -2.926e-05   9.37e-06     -3.123      0.002   -4.76e-05   -1.09e-05\n",
       "Income                         4.276e-06   1.14e-06      3.735      0.000    2.03e-06    6.52e-06\n",
       "Monthly.Premium.Auto             -0.0019      0.001     -1.440      0.150      -0.004       0.001\n",
       "Months.Since.Last.Claim          -0.0085      0.003     -2.779      0.005      -0.014      -0.002\n",
       "Months.Since.Policy.Inception    -0.0023      0.001     -2.156      0.031      -0.004      -0.000\n",
       "Number.of.Open.Complaints        -0.0594      0.035     -1.677      0.094      -0.129       0.010\n",
       "Number.of.Policies               -0.0343      0.013     -2.587      0.010      -0.060      -0.008\n",
       "Total.Claim.Amount                0.0007      0.000      4.090      0.000       0.000       0.001\n",
       "Marital.Status                   -0.4709      0.046    -10.131      0.000      -0.562      -0.380\n",
       "Renew.Offer.Type                 -0.5835      0.039    -14.881      0.000      -0.660      -0.507\n",
       "Sales.Channel                    -0.2127      0.031     -6.801      0.000      -0.274      -0.151\n",
       "Vehicle.Size                     -0.3221      0.055     -5.850      0.000      -0.430      -0.214\n",
       "=================================================================================================\n",
       "\"\"\""
      ]
     },
     "execution_count": 212,
     "metadata": {},
     "output_type": "execute_result"
    }
   ],
   "source": [
    "significant_cols = ['clv', 'Income', 'Monthly.Premium.Auto',\n",
    "       'Months.Since.Last.Claim', 'Months.Since.Policy.Inception',\n",
    "       'Number.of.Open.Complaints', 'Number.of.Policies', 'Total.Claim.Amount',\n",
    "       'Marital.Status', 'Renew.Offer.Type',\n",
    "       'Sales.Channel', 'Vehicle.Size']\n",
    "trainData = sm.Logit(all_data_df.Response, all_data_df[significant_cols])\n",
    "trainData.fit().summary()"
   ]
  },
  {
   "cell_type": "markdown",
   "metadata": {},
   "source": [
    "7.Classification:"
   ]
  },
  {
   "cell_type": "code",
   "execution_count": 213,
   "metadata": {},
   "outputs": [],
   "source": [
    "y = all_data_df.Response\n",
    "X = all_data_df.drop('Response', axis = 1)"
   ]
  },
  {
   "cell_type": "code",
   "execution_count": 214,
   "metadata": {},
   "outputs": [],
   "source": [
    "from sklearn.model_selection import train_test_split, cross_validate\n",
    "X_train,  X_test, y_train, y_test = train_test_split(X,y, test_size = 0.3, random_state = 42)"
   ]
  },
  {
   "cell_type": "code",
   "execution_count": 215,
   "metadata": {},
   "outputs": [
    {
     "data": {
      "image/png": "[encoded data removed]",
      "text/plain": [
       "<Figure size 432x288 with 1 Axes>"
      ]
     },
     "metadata": {},
     "output_type": "display_data"
    }
   ],
   "source": [
    "ax = sns.countplot(y_test)\n",
    "annot_plot_num(ax,0.08,1)"
   ]
  },
  {
   "cell_type": "markdown",
   "metadata": {},
   "source": [
    "7.1 SVC Classification"
   ]
  },
  {
   "cell_type": "code",
   "execution_count": 219,
   "metadata": {},
   "outputs": [
    {
     "name": "stdout",
     "output_type": "stream",
     "text": [
      "[[2218  371]\n",
      " [   0    0]]\n",
      "accuracy_score: 0.8567014291232136\n",
      "              precision    recall  f1-score   support\n",
      "\n",
      "           0       1.00      0.86      0.92      2589\n",
      "           1       0.00      0.00      0.00         0\n",
      "\n",
      "    accuracy                           0.86      2589\n",
      "   macro avg       0.50      0.43      0.46      2589\n",
      "weighted avg       1.00      0.86      0.92      2589\n",
      "\n",
      "Cross validation test_score 0.8578050109827509\n"
     ]
    }
   ],
   "source": [
    "from sklearn.metrics import confusion_matrix, accuracy_score, classification_report\n",
    "from sklearn.svm import SVC\n",
    "\n",
    "svc = SVC()\n",
    "svc.fit(X_train, y_train)\n",
    "svc_pred = svc.predict(X_test)\n",
    "\n",
    "print(confusion_matrix(svc_pred,y_test))\n",
    "print('accuracy_score:',accuracy_score(svc_pred, y_test))\n",
    "print(classification_report(svc_pred, y_test))\n",
    "\n",
    "cross_val_score_svc = cross_validate(svc, X_train, y_train,cv = 5)\n",
    "\n",
    "print('Cross validation test_score',cross_val_score_svc['test_score'].mean())"
   ]
  },
  {
   "cell_type": "markdown",
   "metadata": {},
   "source": [
    "7.2.RandomForestClassifier"
   ]
  },
  {
   "cell_type": "code",
   "execution_count": 218,
   "metadata": {},
   "outputs": [
    {
     "name": "stdout",
     "output_type": "stream",
     "text": [
      "[[2213    0]\n",
      " [   5  371]]\n",
      "Accuracy score: 0.9980687524140595\n",
      "              precision    recall  f1-score   support\n",
      "\n",
      "           0       1.00      1.00      1.00      2213\n",
      "           1       1.00      0.99      0.99       376\n",
      "\n",
      "    accuracy                           1.00      2589\n",
      "   macro avg       1.00      0.99      1.00      2589\n",
      "weighted avg       1.00      1.00      1.00      2589\n",
      "\n",
      "Cross validation test_score 0.9942068043755719\n"
     ]
    }
   ],
   "source": [
    "from sklearn.ensemble import RandomForestClassifier\n",
    "rfc = RandomForestClassifier()\n",
    "rfc.fit(X_train, y_train)\n",
    "rfc_pred = rfc.predict(X_test)\n",
    "\n",
    "print(confusion_matrix(rfc_pred,y_test))\n",
    "print('Accuracy score:',accuracy_score(rfc_pred, y_test))\n",
    "print(classification_report(rfc_pred, y_test))\n",
    "\n",
    "cross_val_score_rfc = cross_validate(rfc, X_train, y_train,cv = 5)\n",
    "\n",
    "\n",
    "print('Cross validation test_score',cross_val_score_rfc['test_score'].mean())"
   ]
  },
  {
   "cell_type": "code",
   "execution_count": null,
   "metadata": {},
   "outputs": [],
   "source": []
  },
  {
   "cell_type": "code",
   "execution_count": null,
   "metadata": {},
   "outputs": [],
   "source": []
  },
  {
   "cell_type": "code",
   "execution_count": null,
   "metadata": {},
   "outputs": [],
   "source": []
  },
  {
   "cell_type": "code",
   "execution_count": null,
   "metadata": {},
   "outputs": [],
   "source": []
  },
  {
   "cell_type": "code",
   "execution_count": null,
   "metadata": {},
   "outputs": [],
   "source": []
  },
  {
   "cell_type": "code",
   "execution_count": null,
   "metadata": {},
   "outputs": [],
   "source": []
  },
  {
   "cell_type": "code",
   "execution_count": null,
   "metadata": {},
   "outputs": [],
   "source": []
  },
  {
   "cell_type": "code",
   "execution_count": null,
   "metadata": {},
   "outputs": [],
   "source": []
  },
  {
   "cell_type": "code",
   "execution_count": null,
   "metadata": {},
   "outputs": [],
   "source": []
  },
  {
   "cell_type": "code",
   "execution_count": null,
   "metadata": {},
   "outputs": [],
   "source": []
  },
  {
   "cell_type": "code",
   "execution_count": null,
   "metadata": {},
   "outputs": [],
   "source": []
  },
  {
   "cell_type": "code",
   "execution_count": null,
   "metadata": {},
   "outputs": [],
   "source": []
  },
  {
   "cell_type": "code",
   "execution_count": null,
   "metadata": {},
   "outputs": [],
   "source": []
  },
  {
   "cell_type": "code",
   "execution_count": null,
   "metadata": {},
   "outputs": [],
   "source": []
  },
  {
   "cell_type": "code",
   "execution_count": null,
   "metadata": {},
   "outputs": [],
   "source": []
  },
  {
   "cell_type": "code",
   "execution_count": null,
   "metadata": {},
   "outputs": [],
   "source": []
  },
  {
   "cell_type": "code",
   "execution_count": null,
   "metadata": {},
   "outputs": [],
   "source": []
  },
  {
   "cell_type": "code",
   "execution_count": null,
   "metadata": {},
   "outputs": [],
   "source": []
  },
  {
   "cell_type": "code",
   "execution_count": null,
   "metadata": {},
   "outputs": [],
   "source": []
  },
  {
   "cell_type": "code",
   "execution_count": null,
   "metadata": {},
   "outputs": [],
   "source": []
  },
  {
   "cell_type": "code",
   "execution_count": null,
   "metadata": {},
   "outputs": [],
   "source": []
  }
 ],
 "metadata": {
  "kernelspec": {
   "display_name": "Python 3",
   "language": "python",
   "name": "python3"
  },
  "language_info": {
   "codemirror_mode": {
    "name": "ipython",
    "version": 3
   },
   "file_extension": ".py",
   "mimetype": "text/x-python",
   "name": "python",
   "nbconvert_exporter": "python",
   "pygments_lexer": "ipython3",
   "version": "3.7.9"
  }
 },
 "nbformat": 4,
 "nbformat_minor": 4
}
